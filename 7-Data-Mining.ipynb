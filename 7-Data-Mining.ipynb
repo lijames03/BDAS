{
 "cells": [
  {
   "cell_type": "markdown",
   "id": "2e9b0747",
   "metadata": {},
   "source": [
    "# 7-Data-Mining"
   ]
  },
  {
   "cell_type": "markdown",
   "id": "305e3686",
   "metadata": {},
   "source": [
    "# OBJ 1 - Random Forest Classifier model "
   ]
  },
  {
   "cell_type": "code",
   "execution_count": 2,
   "id": "6ac01675",
   "metadata": {},
   "outputs": [
    {
     "name": "stderr",
     "output_type": "stream",
     "text": [
      "WARNING: An illegal reflective access operation has occurred\n",
      "WARNING: Illegal reflective access by org.apache.spark.unsafe.Platform (file:/home/ubuntu/.local/lib/python3.10/site-packages/pyspark/jars/spark-unsafe_2.12-3.2.1.jar) to constructor java.nio.DirectByteBuffer(long,int)\n",
      "WARNING: Please consider reporting this to the maintainers of org.apache.spark.unsafe.Platform\n",
      "WARNING: Use --illegal-access=warn to enable warnings of further illegal reflective access operations\n",
      "WARNING: All illegal access operations will be denied in a future release\n",
      "Using Spark's default log4j profile: org/apache/spark/log4j-defaults.properties\n",
      "Setting default log level to \"WARN\".\n",
      "To adjust logging level use sc.setLogLevel(newLevel). For SparkR, use setLogLevel(newLevel).\n",
      "23/10/10 08:54:19 WARN NativeCodeLoader: Unable to load native-hadoop library for your platform... using builtin-java classes where applicable\n",
      "23/10/10 08:54:33 WARN package: Truncated the string representation of a plan since it was too large. This behavior can be adjusted by setting 'spark.sql.debug.maxToStringFields'.\n",
      "[Stage 998:>                                                        (0 + 2) / 2]\r"
     ]
    },
    {
     "name": "stdout",
     "output_type": "stream",
     "text": [
      "Accuracy: 0.8138921657067518\n"
     ]
    },
    {
     "name": "stderr",
     "output_type": "stream",
     "text": [
      "\r",
      "[Stage 998:============================>                            (1 + 1) / 2]\r",
      "\r",
      "                                                                                \r"
     ]
    }
   ],
   "source": [
    "from pyspark.sql import SparkSession\n",
    "from pyspark.ml.feature import StringIndexer, VectorAssembler\n",
    "from pyspark.ml.classification import RandomForestClassifier\n",
    "from pyspark.ml.evaluation import MulticlassClassificationEvaluator\n",
    "from pyspark.ml.tuning import ParamGridBuilder, CrossValidator\n",
    "from pyspark.ml import Pipeline\n",
    "\n",
    "# Create a Spark session\n",
    "spark = SparkSession.builder.appName(\"RandomForestClassifierModel\").getOrCreate()\n",
    "\n",
    "# Load data\n",
    "csv_file_path = 'Merged-data.csv'\n",
    "df = spark.read.format(\"csv\").option(\"header\", \"true\").load(csv_file_path)\n",
    "\n",
    "# Using Binary target variable (1 or 0)\n",
    "# If 'ClientsSeenRate' > threshold, set 'Target' to 1; otherwise, set it to 0.\n",
    "threshold = 200\n",
    "df = df.withColumn('Target', (df['ClientsSeenRate'] > threshold).cast(\"integer\"))\n",
    "\n",
    "# Select the features and target variable\n",
    "selected_cols = ['Gender', 'AgeGroup', 'Ethnicity']\n",
    "feature_cols = ['encoded_' + col for col in selected_cols]\n",
    "\n",
    "# Encode categorical variables (Gender, AgeGroup, Ethnicity)\n",
    "indexers = [StringIndexer(inputCol=col, outputCol='encoded_' + col, handleInvalid='keep', stringOrderType=\"frequencyDesc\").fit(df) for col in selected_cols]\n",
    "pipeline = Pipeline(stages=indexers)\n",
    "df = pipeline.fit(df).transform(df)\n",
    "\n",
    "# Assemble features into a vector\n",
    "assembler = VectorAssembler(inputCols=feature_cols, outputCol=\"features\")\n",
    "df = assembler.transform(df)\n",
    "\n",
    "# Split the data into training and testing sets\n",
    "(train_data, test_data) = df.randomSplit([0.7, 0.3], seed=42)\n",
    "\n",
    "# Create a Random Forest classifier with a seed\n",
    "rf_classifier = RandomForestClassifier(featuresCol=\"features\", labelCol=\"Target\", seed=42)\n",
    "\n",
    "# Create a parameter grid for cross-validation\n",
    "param_grid = ParamGridBuilder() \\\n",
    "    .addGrid(rf_classifier.numTrees, [10, 20, 30]) \\\n",
    "    .addGrid(rf_classifier.maxDepth, [5, 10, 15]) \\\n",
    "    .build()\n",
    "\n",
    "# Set up the cross-validator\n",
    "evaluator = MulticlassClassificationEvaluator(labelCol=\"Target\", predictionCol=\"prediction\", metricName=\"accuracy\")\n",
    "cross_validator = CrossValidator(estimator=rf_classifier,\n",
    "                                 estimatorParamMaps=param_grid,\n",
    "                                 evaluator=evaluator,\n",
    "                                 numFolds=4,  # We can adjust the number of folds as needed\n",
    "                                 seed=42)\n",
    "\n",
    "# Run cross-validation and choose the best set of parameters\n",
    "cv_model = cross_validator.fit(train_data)\n",
    "\n",
    "# Make predictions on the test set using the best model\n",
    "cv_predictions = cv_model.transform(test_data)\n",
    "\n",
    "# Fit the Random Forest model on the entire training set\n",
    "final_model = rf_classifier.fit(train_data)\n",
    "\n",
    "# Calculate accuracy\n",
    "accuracy = evaluator.evaluate(cv_predictions)\n",
    "print(\"Accuracy:\", accuracy)\n"
   ]
  },
  {
   "cell_type": "code",
   "execution_count": 3,
   "id": "81852695",
   "metadata": {},
   "outputs": [
    {
     "name": "stderr",
     "output_type": "stream",
     "text": [
      "                                                                                \r"
     ]
    },
    {
     "name": "stdout",
     "output_type": "stream",
     "text": [
      "encoded_Gender: 0.21852124126569453\n",
      "encoded_AgeGroup: 0.02663052235862524\n",
      "encoded_Ethnicity: 0.7548482363756803\n"
     ]
    },
    {
     "data": {
      "image/png": "[encoded data removed]",
      "text/plain": [
       "<Figure size 720x432 with 1 Axes>"
      ]
     },
     "metadata": {
      "needs_background": "light"
     },
     "output_type": "display_data"
    }
   ],
   "source": [
    "import matplotlib.pyplot as plt\n",
    "from pyspark.sql import SparkSession\n",
    "from pyspark.ml.feature import StringIndexer, VectorAssembler\n",
    "from pyspark.ml.classification import RandomForestClassifier\n",
    "from pyspark.ml.tuning import ParamGridBuilder, CrossValidator\n",
    "from pyspark.ml.evaluation import MulticlassClassificationEvaluator\n",
    "from pyspark.ml import Pipeline\n",
    "\n",
    "# Create a Spark session\n",
    "spark = SparkSession.builder.appName(\"RandomForestClassifierModel\").getOrCreate()\n",
    "\n",
    "# Load data\n",
    "csv_file_path = 'Merged-data.csv'\n",
    "df = spark.read.format(\"csv\").option(\"header\", \"true\").load(csv_file_path)\n",
    "\n",
    "# Using Binary target variable (1 or 0)\n",
    "# If 'ClientsSeenRate' > threshold, set 'Target' to 1; otherwise, set it to 0.\n",
    "threshold = 200\n",
    "df = df.withColumn('Target', (df['ClientsSeenRate'] > threshold).cast(\"integer\"))\n",
    "\n",
    "# Select the features and target variable\n",
    "selected_cols = ['Gender', 'AgeGroup', 'Ethnicity']\n",
    "feature_cols = ['encoded_' + col for col in selected_cols]\n",
    "\n",
    "# Encode categorical variables (Gender, AgeGroup, Ethnicity)\n",
    "indexers = [StringIndexer(inputCol=col, outputCol='encoded_' + col, handleInvalid='keep', stringOrderType=\"frequencyDesc\").fit(df) for col in selected_cols]\n",
    "pipeline = Pipeline(stages=indexers)\n",
    "df = pipeline.fit(df).transform(df)\n",
    "\n",
    "# Assemble features into a vector\n",
    "assembler = VectorAssembler(inputCols=feature_cols, outputCol=\"features\")\n",
    "df = assembler.transform(df)\n",
    "\n",
    "# Split the data into training and testing sets\n",
    "(train_data, test_data) = df.randomSplit([0.7, 0.3], seed=42)\n",
    "\n",
    "# Create a Random Forest classifier with a seed\n",
    "rf_classifier = RandomForestClassifier(featuresCol=\"features\", labelCol=\"Target\", seed=42)\n",
    "\n",
    "# Fit the Random Forest model on the entire training set\n",
    "final_model = rf_classifier.fit(train_data)\n",
    "\n",
    "# Print feature importances\n",
    "feature_importances = final_model.featureImportances.toArray()\n",
    "for i, feature in enumerate(feature_cols):\n",
    "    print(f\"{feature}: {feature_importances[i]}\")\n",
    "\n",
    "# Plot feature importances\n",
    "plt.figure(figsize=(10, 6))\n",
    "plt.barh(feature_cols, feature_importances)\n",
    "plt.xlabel('Feature Importance')\n",
    "plt.title('Random Forest Feature Importances')\n",
    "plt.show()\n"
   ]
  },
  {
   "cell_type": "code",
   "execution_count": 4,
   "id": "e0fb6d81",
   "metadata": {},
   "outputs": [
    {
     "data": {
      "image/png": "[encoded data removed]",
      "text/plain": [
       "<Figure size 720x432 with 1 Axes>"
      ]
     },
     "metadata": {
      "needs_background": "light"
     },
     "output_type": "display_data"
    }
   ],
   "source": [
    "import matplotlib.pyplot as plt\n",
    "import pandas as pd\n",
    "\n",
    "#'df' is the Spark DataFrame\n",
    "ethnicity_counts = df.filter(df['Ethnicity'] != 'Total').groupBy('Ethnicity').count().toPandas()\n",
    "\n",
    "# Plotting the graph\n",
    "plt.figure(figsize=(10, 6))\n",
    "plt.bar(ethnicity_counts['Ethnicity'], ethnicity_counts['count'], color='skyblue')\n",
    "plt.xlabel('Ethnicity')\n",
    "plt.ylabel('Count')\n",
    "plt.title('Distribution of Ethnicity (Excluding Total)')\n",
    "plt.show()\n"
   ]
  },
  {
   "cell_type": "code",
   "execution_count": 5,
   "id": "0d231f4b",
   "metadata": {},
   "outputs": [
    {
     "name": "stderr",
     "output_type": "stream",
     "text": [
      "\r",
      "[Stage 1030:>                                                       (0 + 1) / 1]\r",
      "\r",
      "                                                                                \r"
     ]
    },
    {
     "data": {
      "image/png": "[encoded data removed]",
      "text/plain": [
       "<Figure size 864x576 with 1 Axes>"
      ]
     },
     "metadata": {
      "needs_background": "light"
     },
     "output_type": "display_data"
    }
   ],
   "source": [
    "import matplotlib.pyplot as plt\n",
    "from pyspark.sql import SparkSession\n",
    "from pyspark.sql.functions import col\n",
    "from pyspark.sql.window import Window\n",
    "from pyspark.sql import functions as F\n",
    "\n",
    "#'df' is the Spark DataFrame\n",
    "spark = SparkSession.builder.appName(\"LineGraphEthnicityYear\").getOrCreate()\n",
    "\n",
    "# Filter out rows with 'Total' Ethnicity\n",
    "df_filtered = df.filter(col('Ethnicity') != 'Total')\n",
    "\n",
    "# Calculate the mean of ClientsSeenRate for each Ethnicity and Year\n",
    "mean_clients_seen_rate = df_filtered.groupBy('Ethnicity', 'Year') \\\n",
    "    .agg(F.mean('ClientsSeenRate').alias('MeanClientsSeenRate'))\n",
    "\n",
    "# Sort by Year\n",
    "windowSpec = Window.partitionBy('Ethnicity').orderBy('Year')\n",
    "mean_clients_seen_rate = mean_clients_seen_rate.withColumn('MeanClientsSeenRate', F.mean('MeanClientsSeenRate').over(windowSpec))\n",
    "\n",
    "# Get unique values of Ethnicity\n",
    "unique_ethnicities = mean_clients_seen_rate.select('Ethnicity').distinct().rdd.flatMap(lambda x: x).collect()\n",
    "\n",
    "# Plotting the graph\n",
    "plt.figure(figsize=(12, 8))\n",
    "\n",
    "# Iterate over unique ethnicities\n",
    "for ethnicity in unique_ethnicities:\n",
    "    data_subset = mean_clients_seen_rate.filter(col('Ethnicity') == ethnicity).orderBy('Year').collect()\n",
    "    years = [row['Year'] for row in data_subset]\n",
    "    mean_clients_seen_rates = [row['MeanClientsSeenRate'] for row in data_subset]\n",
    "    plt.plot(years, mean_clients_seen_rates, label=f'Ethnicity {ethnicity}')\n",
    "\n",
    "plt.xlabel('Year')\n",
    "plt.ylabel('Mean ClientsSeenRate')\n",
    "plt.title('Mean ClientsSeenRate by Ethnicity and Year')\n",
    "plt.legend()\n",
    "plt.show()\n",
    "\n",
    "\n"
   ]
  },
  {
   "cell_type": "code",
   "execution_count": 15,
   "id": "1a4498bb",
   "metadata": {},
   "outputs": [
    {
     "name": "stderr",
     "output_type": "stream",
     "text": [
      "                                                                                \r"
     ]
    },
    {
     "data": {
      "image/png": "[encoded data removed]",
      "text/plain": [
       "<Figure size 576x576 with 1 Axes>"
      ]
     },
     "metadata": {
      "needs_background": "light"
     },
     "output_type": "display_data"
    }
   ],
   "source": [
    "import matplotlib.pyplot as plt\n",
    "from sklearn.metrics import roc_curve, auc\n",
    "from pyspark.sql import SparkSession\n",
    "from pyspark.ml.feature import StringIndexer, VectorAssembler\n",
    "from pyspark.ml.classification import RandomForestClassifier\n",
    "from pyspark.ml.evaluation import BinaryClassificationEvaluator\n",
    "from pyspark.ml.tuning import ParamGridBuilder, CrossValidator\n",
    "from pyspark.ml import Pipeline\n",
    "\n",
    "# Create a Spark session\n",
    "spark = SparkSession.builder.appName(\"RandomForestClassifierCV\").getOrCreate()\n",
    "\n",
    "# Load data\n",
    "csv_file_path = 'Merged-data.csv'\n",
    "df = spark.read.format(\"csv\").option(\"header\", \"true\").load(csv_file_path)\n",
    "\n",
    "# Using Binary target variable (1 or 0)\n",
    "# If 'ClientsSeenRate' > threshold, set 'Target' to 1; otherwise, set it to 0.\n",
    "threshold = 200\n",
    "df = df.withColumn('Target', (df['ClientsSeenRate'] > threshold).cast(\"integer\"))\n",
    "\n",
    "# Select the features and target variable\n",
    "selected_cols = ['Gender', 'AgeGroup', 'Ethnicity']\n",
    "feature_cols = ['encoded_' + col for col in selected_cols]\n",
    "\n",
    "# Encode categorical variables (Gender, AgeGroup, Ethnicity)\n",
    "indexers = [StringIndexer(inputCol=col, outputCol='encoded_' + col).fit(df) for col in selected_cols]\n",
    "pipeline = Pipeline(stages=indexers)\n",
    "df = pipeline.fit(df).transform(df)\n",
    "\n",
    "# Assemble features into a vector\n",
    "assembler = VectorAssembler(inputCols=feature_cols, outputCol=\"features\")\n",
    "df = assembler.transform(df)\n",
    "\n",
    "# Split the data into training and testing sets\n",
    "(train_data, test_data) = df.randomSplit([0.7, 0.3], seed=42)\n",
    "\n",
    "# Create a Random Forest classifier\n",
    "rf_classifier = RandomForestClassifier(featuresCol=\"features\", labelCol=\"Target\")\n",
    "\n",
    "# Create a parameter grid for cross-validation\n",
    "param_grid = ParamGridBuilder() \\\n",
    "    .addGrid(rf_classifier.numTrees, [10, 20, 30]) \\\n",
    "    .addGrid(rf_classifier.maxDepth, [5, 10, 15]) \\\n",
    "    .build()\n",
    "\n",
    "# Set up the cross-validator\n",
    "cross_validator = CrossValidator(estimator=rf_classifier,\n",
    "                                 estimatorParamMaps=param_grid,\n",
    "                                 evaluator=BinaryClassificationEvaluator(labelCol=\"Target\", rawPredictionCol=\"rawPrediction\", metricName=\"areaUnderROC\"),\n",
    "                                 numFolds=4,  # We can adjust the number of folds as needed\n",
    "                                 seed=42)\n",
    "\n",
    "# Run cross-validation and choose the best set of parameters\n",
    "cv_model = cross_validator.fit(train_data)\n",
    "\n",
    "# Make predictions on the test set using the best model\n",
    "cv_predictions = cv_model.transform(test_data)\n",
    "\n",
    "# Evaluate the model\n",
    "evaluator = BinaryClassificationEvaluator(labelCol=\"Target\", rawPredictionCol=\"rawPrediction\", metricName=\"areaUnderROC\")\n",
    "cv_accuracy = evaluator.evaluate(cv_predictions)\n",
    "\n",
    "# Plot the ROC curve\n",
    "def plot_roc_curve(predictions, label_col='Target', raw_prediction_col='rawPrediction'):\n",
    "    y_true = [row[label_col] for row in predictions.select(label_col).collect()]\n",
    "    y_scores = [row[raw_prediction_col][1] for row in predictions.select(raw_prediction_col).collect()]\n",
    "\n",
    "    fpr, tpr, _ = roc_curve(y_true, y_scores)\n",
    "    roc_auc = auc(fpr, tpr)\n",
    "\n",
    "    plt.figure(figsize=(8, 8))\n",
    "    plt.plot(fpr, tpr, color='darkorange', lw=2, label='ROC curve (area = {:.2f})'.format(roc_auc))\n",
    "    plt.plot([0, 1], [0, 1], color='navy', lw=2, linestyle='--')\n",
    "    plt.xlabel('False Positive Rate')\n",
    "    plt.ylabel('True Positive Rate')\n",
    "    plt.title('Receiver Operating Characteristic (ROC) Curve')\n",
    "    plt.legend(loc='lower right')\n",
    "    plt.show()\n",
    "\n",
    "# Plot the ROC curve for the cross-validated model\n",
    "plot_roc_curve(cv_predictions)\n",
    "\n"
   ]
  },
  {
   "cell_type": "code",
   "execution_count": 16,
   "id": "1e5cea42",
   "metadata": {},
   "outputs": [
    {
     "name": "stderr",
     "output_type": "stream",
     "text": [
      "                                                                                \r"
     ]
    },
    {
     "name": "stdout",
     "output_type": "stream",
     "text": [
      "AUC-PR: 0.4285876294737386\n"
     ]
    }
   ],
   "source": [
    "from pyspark.sql import SparkSession\n",
    "\n",
    "evaluator = BinaryClassificationEvaluator(labelCol=\"Target\", rawPredictionCol=\"rawPrediction\", metricName=\"areaUnderPR\")\n",
    "auc_pr = evaluator.evaluate(cv_predictions)\n",
    "print(\"AUC-PR:\", auc_pr)"
   ]
  },
  {
   "cell_type": "code",
   "execution_count": 17,
   "id": "1ec6c22b",
   "metadata": {},
   "outputs": [
    {
     "name": "stderr",
     "output_type": "stream",
     "text": [
      "\r",
      "[Stage 1330:>                                                       (0 + 2) / 2]\r"
     ]
    },
    {
     "name": "stdout",
     "output_type": "stream",
     "text": [
      "F1 Score: 0.7548203248573726\n"
     ]
    },
    {
     "name": "stderr",
     "output_type": "stream",
     "text": [
      "\r",
      "[Stage 1330:============================>                           (1 + 1) / 2]\r",
      "\r",
      "                                                                                \r"
     ]
    }
   ],
   "source": [
    "from pyspark.ml.evaluation import MulticlassClassificationEvaluator\n",
    "\n",
    "evaluator_f1 = MulticlassClassificationEvaluator(labelCol=\"Target\", predictionCol=\"prediction\", metricName=\"f1\")\n",
    "f1_score = evaluator_f1.evaluate(cv_predictions)\n",
    "print(\"F1 Score:\", f1_score)\n"
   ]
  },
  {
   "cell_type": "code",
   "execution_count": 18,
   "id": "25c1c19c",
   "metadata": {},
   "outputs": [
    {
     "name": "stderr",
     "output_type": "stream",
     "text": [
      "[Stage 1338:============================>                           (1 + 1) / 2]\r"
     ]
    },
    {
     "name": "stdout",
     "output_type": "stream",
     "text": [
      "Precision: 0.6691769768692846\n",
      "Recall: 0.10918985341876591\n"
     ]
    },
    {
     "name": "stderr",
     "output_type": "stream",
     "text": [
      "\r",
      "                                                                                \r"
     ]
    }
   ],
   "source": [
    "true_positives = cv_predictions.filter(\"prediction = 1 AND Target = 1\").count()\n",
    "false_positives = cv_predictions.filter(\"prediction = 1 AND Target = 0\").count()\n",
    "false_negatives = cv_predictions.filter(\"prediction = 0 AND Target = 1\").count()\n",
    "\n",
    "precision = true_positives / (true_positives + false_positives)\n",
    "recall = true_positives / (true_positives + false_negatives)\n",
    "\n",
    "print(\"Precision:\", precision)\n",
    "print(\"Recall:\", recall)\n"
   ]
  },
  {
   "cell_type": "markdown",
   "id": "76cfa6ce",
   "metadata": {},
   "source": [
    "# OBJ 2 - K-means Clustering"
   ]
  },
  {
   "cell_type": "code",
   "execution_count": 19,
   "id": "33c006b2",
   "metadata": {},
   "outputs": [
    {
     "name": "stderr",
     "output_type": "stream",
     "text": [
      "                                                                                \r"
     ]
    },
    {
     "data": {
      "image/png": "[encoded data removed]",
      "text/plain": [
       "<Figure size 432x288 with 1 Axes>"
      ]
     },
     "metadata": {
      "needs_background": "light"
     },
     "output_type": "display_data"
    }
   ],
   "source": [
    "from pyspark.sql import SparkSession\n",
    "from pyspark.sql.functions import col\n",
    "from pyspark.ml.feature import StringIndexer, StandardScaler, VectorAssembler\n",
    "from pyspark.ml.clustering import KMeans\n",
    "from pyspark.ml import Pipeline\n",
    "import matplotlib.pyplot as plt\n",
    "import seaborn as sns\n",
    "from sklearn.metrics import silhouette_score\n",
    "\n",
    "# Initialize Spark session\n",
    "spark = SparkSession.builder.appName(\"ClusterAnalysis\").getOrCreate()\n",
    "\n",
    "# Load data from CSV\n",
    "csv_file_path = 'Merged-data.csv'\n",
    "df = spark.read.csv(csv_file_path, header=True, inferSchema=True)\n",
    "\n",
    "# Filter out rows where 'TeamType' is not 'Total'\n",
    "df = df.filter(col('Team') != 'Total')\n",
    "\n",
    "# Encode categorical variables\n",
    "indexer = StringIndexer(inputCol='Team', outputCol='TeamIndex')\n",
    "df = indexer.fit(df).transform(df)\n",
    "\n",
    "# Standardize numerical features\n",
    "numerical_cols = ['ClientsSeen', 'ClientsSeenFaceToFace', 'Contacts']\n",
    "scaler = StandardScaler(inputCol='features', outputCol='scaled_features', withStd=True, withMean=True)\n",
    "assembler = VectorAssembler(inputCols=numerical_cols, outputCol='features')\n",
    "pipeline = Pipeline(stages=[assembler, scaler])\n",
    "model = pipeline.fit(df)\n",
    "df = model.transform(df)\n",
    "\n",
    "# Select relevant features for clustering\n",
    "selected_features = ['TeamIndex', 'scaled_features']\n",
    "df = df.select(selected_features)\n",
    "\n",
    "# Determine the optimal number of clusters using the elbow method\n",
    "k_values = range(2, 11)\n",
    "inertia_values = []\n",
    "\n",
    "for k in k_values:\n",
    "    kmeans = KMeans(featuresCol='scaled_features', k=k, seed=42)\n",
    "    model = kmeans.fit(df)\n",
    "    inertia_values.append(model.summary.trainingCost)\n",
    "\n",
    "# Plot the elbow method to choose the optimal K\n",
    "plt.plot(k_values, inertia_values, marker='o')\n",
    "plt.xlabel('Number of Clusters (K)')\n",
    "plt.ylabel('Inertia')\n",
    "plt.title('Elbow Method for Optimal K')\n",
    "plt.show()\n"
   ]
  },
  {
   "cell_type": "code",
   "execution_count": 20,
   "id": "58b91ebb",
   "metadata": {},
   "outputs": [
    {
     "name": "stdout",
     "output_type": "stream",
     "text": [
      "For K=2, Silhouette Score: 0.9350953463596291\n"
     ]
    },
    {
     "name": "stderr",
     "output_type": "stream",
     "text": [
      "\r",
      "[Stage 1776:============================>                           (1 + 1) / 2]\r",
      "\r",
      "                                                                                \r"
     ]
    },
    {
     "name": "stdout",
     "output_type": "stream",
     "text": [
      "For K=3, Silhouette Score: 0.9122309667821634\n",
      "For K=4, Silhouette Score: 0.9013891116921409\n"
     ]
    },
    {
     "name": "stderr",
     "output_type": "stream",
     "text": [
      "\r",
      "[Stage 1844:============================>                           (1 + 1) / 2]\r",
      "\r",
      "                                                                                \r"
     ]
    },
    {
     "name": "stdout",
     "output_type": "stream",
     "text": [
      "For K=5, Silhouette Score: 0.842274323430666\n"
     ]
    },
    {
     "name": "stderr",
     "output_type": "stream",
     "text": [
      "\r",
      "[Stage 1884:============================>                           (1 + 1) / 2]\r",
      "\r",
      "                                                                                \r"
     ]
    },
    {
     "name": "stdout",
     "output_type": "stream",
     "text": [
      "For K=6, Silhouette Score: 0.8478161218391959\n",
      "For K=7, Silhouette Score: 0.8471642404473244\n"
     ]
    },
    {
     "name": "stderr",
     "output_type": "stream",
     "text": [
      "\r",
      "[Stage 1988:============================>                           (1 + 1) / 2]\r",
      "\r",
      "                                                                                \r"
     ]
    },
    {
     "name": "stdout",
     "output_type": "stream",
     "text": [
      "For K=8, Silhouette Score: 0.8368858199094544\n"
     ]
    },
    {
     "name": "stderr",
     "output_type": "stream",
     "text": [
      "\r",
      "[Stage 2040:============================>                           (1 + 1) / 2]\r",
      "\r",
      "                                                                                \r"
     ]
    },
    {
     "name": "stdout",
     "output_type": "stream",
     "text": [
      "For K=9, Silhouette Score: 0.8073059668687405\n"
     ]
    },
    {
     "name": "stderr",
     "output_type": "stream",
     "text": [
      "\r",
      "[Stage 2092:============================>                           (1 + 1) / 2]\r",
      "\r",
      "                                                                                \r"
     ]
    },
    {
     "name": "stdout",
     "output_type": "stream",
     "text": [
      "For K=10, Silhouette Score: 0.7913471894360916\n"
     ]
    }
   ],
   "source": [
    "from sklearn.metrics import silhouette_score\n",
    "import pandas as pd\n",
    "import numpy as np\n",
    "\n",
    "# Compute silhouette scores for different values of K\n",
    "for k in k_values:\n",
    "    kmeans = KMeans(featuresCol='scaled_features', k=k, seed=42)\n",
    "    model = kmeans.fit(df)\n",
    "    predictions = model.transform(df)\n",
    "\n",
    "    # Convert PySpark DataFrame to Pandas DataFrame\n",
    "    pandas_predictions = predictions.select('TeamIndex', 'prediction', 'scaled_features').toPandas()\n",
    "\n",
    "    # Extract relevant columns\n",
    "    labels = pandas_predictions['prediction']\n",
    "    \n",
    "    # Extract values from DenseVectors\n",
    "    features = np.array([vector.toArray() for vector in pandas_predictions['scaled_features']])\n",
    "\n",
    "    # Compute silhouette score\n",
    "    silhouette = silhouette_score(features, labels)\n",
    "    print(f\"For K={k}, Silhouette Score: {silhouette}\")"
   ]
  },
  {
   "cell_type": "code",
   "execution_count": 21,
   "id": "598591fd",
   "metadata": {},
   "outputs": [
    {
     "name": "stderr",
     "output_type": "stream",
     "text": [
      "\r",
      "[Stage 2144:============================>                           (1 + 1) / 2]\r",
      "\r",
      "                                                                                \r"
     ]
    },
    {
     "name": "stdout",
     "output_type": "stream",
     "text": [
      "+---------+--------------------+-------+\n",
      "|TeamIndex|     scaled_features|cluster|\n",
      "+---------+--------------------+-------+\n",
      "|      5.0|[-0.2801231818286...|      0|\n",
      "|      0.0|[1.12158384180993...|      0|\n",
      "|      1.0|[-0.2531116218410...|      0|\n",
      "|      7.0|[-0.2849466746835...|      0|\n",
      "|      2.0|[-0.2068060904339...|      0|\n",
      "|     10.0|[-0.2839819761125...|      0|\n",
      "|      8.0|[-0.2849466746835...|      0|\n",
      "|      6.0|[-0.2733702918317...|      0|\n",
      "|      5.0|[-0.2675821004058...|      0|\n",
      "|      0.0|[5.82738347106589...|      1|\n",
      "|      1.0|[-0.2193471718566...|      0|\n",
      "|      7.0|[-0.2637233061219...|      0|\n",
      "|      4.0|[-0.2801231818286...|      0|\n",
      "|      2.0|[0.10286215085169...|      0|\n",
      "|      8.0|[-0.2810878803996...|      0|\n",
      "|      6.0|[-0.0621013047864...|      0|\n",
      "|      5.0|[-0.1170891233324...|      0|\n",
      "|      0.0|[9.90516433061181...|      1|\n",
      "|      1.0|[2.21651671987584...|      2|\n",
      "|      3.0|[-0.0881481662029...|      0|\n",
      "+---------+--------------------+-------+\n",
      "only showing top 20 rows\n",
      "\n"
     ]
    }
   ],
   "source": [
    "from pyspark.ml.clustering import KMeans\n",
    "from pyspark.ml import Pipeline\n",
    "from pyspark.ml.feature import StringIndexer, StandardScaler, VectorAssembler\n",
    "\n",
    "# Choose the optimal number of clusters\n",
    "optimal_k = 3\n",
    "\n",
    "# Fit the KMeans model with the chosen K\n",
    "kmeans = KMeans(featuresCol='scaled_features', k=optimal_k, seed=42, predictionCol='cluster')\n",
    "\n",
    "# Create a new instance of the model and fit it\n",
    "model = kmeans.fit(df)\n",
    "\n",
    "# Add the 'cluster' column to the original DataFrame\n",
    "clustered_df = model.transform(df)\n",
    "\n",
    "# Display the results\n",
    "clustered_df.select('TeamIndex', 'scaled_features', 'cluster').show()"
   ]
  },
  {
   "cell_type": "code",
   "execution_count": 22,
   "id": "7c3b7764",
   "metadata": {},
   "outputs": [
    {
     "name": "stdout",
     "output_type": "stream",
     "text": [
      "+-------+--------------------+------------+\n",
      "|cluster|      avg(TeamIndex)|avg(cluster)|\n",
      "+-------+--------------------+------------+\n",
      "|      1|0.029900332225913623|         1.0|\n",
      "|      2|  0.3950381679389313|         2.0|\n",
      "|      0|   4.702726252115484|         0.0|\n",
      "+-------+--------------------+------------+\n",
      "\n"
     ]
    }
   ],
   "source": [
    "# Profile the clusters\n",
    "cluster_profiles = clustered_df.groupBy('cluster').mean()\n",
    "cluster_profiles.show()"
   ]
  },
  {
   "cell_type": "code",
   "execution_count": 23,
   "id": "fe52f239",
   "metadata": {},
   "outputs": [
    {
     "data": {
      "image/png": "[encoded data removed]",
      "text/plain": [
       "<Figure size 432x288 with 1 Axes>"
      ]
     },
     "metadata": {
      "needs_background": "light"
     },
     "output_type": "display_data"
    }
   ],
   "source": [
    "import matplotlib.pyplot as plt\n",
    "import seaborn as sns\n",
    "\n",
    "# Convert the PySpark DataFrame to a Pandas DataFrame for easier plotting\n",
    "pandas_df = clustered_df.toPandas()\n",
    "\n",
    "# Extract individual components from the DenseVector\n",
    "for i in range(len(pandas_df['scaled_features'][0])):\n",
    "    pandas_df[f'scaled_feature_{i}'] = pandas_df['scaled_features'].apply(lambda x: x[i])\n",
    "\n",
    "# Scatter plot to visualize clusters\n",
    "sns.scatterplot(x='scaled_feature_0', y='TeamIndex', hue='cluster', data=pandas_df)\n",
    "plt.title(\"Cluster Visualization\")\n",
    "plt.show()"
   ]
  },
  {
   "cell_type": "code",
   "execution_count": 24,
   "id": "7b9bdc73",
   "metadata": {},
   "outputs": [
    {
     "name": "stdout",
     "output_type": "stream",
     "text": [
      "Silhouette Score: 0.9583707296274857\n"
     ]
    },
    {
     "name": "stderr",
     "output_type": "stream",
     "text": [
      "\r",
      "[Stage 2172:>                                                       (0 + 2) / 2]\r",
      "\r",
      "                                                                                \r"
     ]
    }
   ],
   "source": [
    "from pyspark.ml.evaluation import ClusteringEvaluator\n",
    "\n",
    "# Evaluate clustering by computing Silhouette score\n",
    "evaluator = ClusteringEvaluator(featuresCol='scaled_features', predictionCol='cluster', metricName='silhouette')\n",
    "\n",
    "# Calculate Silhouette score\n",
    "silhouette_score = evaluator.evaluate(clustered_df)\n",
    "print(f\"Silhouette Score: {silhouette_score}\")"
   ]
  },
  {
   "cell_type": "code",
   "execution_count": 2,
   "id": "b44303a3",
   "metadata": {},
   "outputs": [
    {
     "name": "stderr",
     "output_type": "stream",
     "text": [
      "WARNING: An illegal reflective access operation has occurred\n",
      "WARNING: Illegal reflective access by org.apache.spark.unsafe.Platform (file:/home/ubuntu/.local/lib/python3.10/site-packages/pyspark/jars/spark-unsafe_2.12-3.2.1.jar) to constructor java.nio.DirectByteBuffer(long,int)\n",
      "WARNING: Please consider reporting this to the maintainers of org.apache.spark.unsafe.Platform\n",
      "WARNING: Use --illegal-access=warn to enable warnings of further illegal reflective access operations\n",
      "WARNING: All illegal access operations will be denied in a future release\n",
      "Using Spark's default log4j profile: org/apache/spark/log4j-defaults.properties\n",
      "Setting default log level to \"WARN\".\n",
      "To adjust logging level use sc.setLogLevel(newLevel). For SparkR, use setLogLevel(newLevel).\n",
      "23/10/08 04:55:43 WARN NativeCodeLoader: Unable to load native-hadoop library for your platform... using builtin-java classes where applicable\n",
      "                                                                                \r"
     ]
    },
    {
     "name": "stdout",
     "output_type": "stream",
     "text": [
      "Results on Testing Set:\n",
      "+---------+--------------------+-------+\n",
      "|TeamIndex|     scaled_features|cluster|\n",
      "+---------+--------------------+-------+\n",
      "|      0.0|[-0.2849466746835...|      0|\n",
      "|      0.0|[-0.2849466746835...|      0|\n",
      "|      0.0|[-0.2849466746835...|      0|\n",
      "|      0.0|[-0.2849466746835...|      0|\n",
      "|      0.0|[-0.2849466746835...|      0|\n",
      "|      0.0|[-0.2849466746835...|      0|\n",
      "|      0.0|[-0.2849466746835...|      0|\n",
      "|      0.0|[-0.2849466746835...|      0|\n",
      "|      0.0|[-0.2849466746835...|      0|\n",
      "|      0.0|[-0.2849466746835...|      0|\n",
      "|      0.0|[-0.2849466746835...|      0|\n",
      "|      0.0|[-0.2849466746835...|      0|\n",
      "|      0.0|[-0.2849466746835...|      0|\n",
      "|      0.0|[-0.2849466746835...|      0|\n",
      "|      0.0|[-0.2849466746835...|      0|\n",
      "|      0.0|[-0.2849466746835...|      0|\n",
      "|      0.0|[-0.2849466746835...|      0|\n",
      "|      0.0|[-0.2849466746835...|      0|\n",
      "|      0.0|[-0.2849466746835...|      0|\n",
      "|      0.0|[-0.2849466746835...|      0|\n",
      "+---------+--------------------+-------+\n",
      "only showing top 20 rows\n",
      "\n"
     ]
    },
    {
     "name": "stderr",
     "output_type": "stream",
     "text": [
      "\r",
      "[Stage 60:>                                                         (0 + 2) / 2]\r",
      "\r",
      "                                                                                \r"
     ]
    },
    {
     "name": "stdout",
     "output_type": "stream",
     "text": [
      "Silhouette Score on Testing Set: 0.9597716632747232\n"
     ]
    },
    {
     "name": "stderr",
     "output_type": "stream",
     "text": [
      "\r",
      "[Stage 62:>                                                         (0 + 2) / 2]\r",
      "\r",
      "                                                                                \r"
     ]
    }
   ],
   "source": [
    "from pyspark.sql import SparkSession\n",
    "from pyspark.sql.functions import col\n",
    "from pyspark.ml.clustering import KMeans\n",
    "from pyspark.ml.feature import StringIndexer, StandardScaler, VectorAssembler\n",
    "from pyspark.ml import Pipeline\n",
    "from pyspark.ml.tuning import TrainValidationSplit\n",
    "from pyspark.ml.evaluation import ClusteringEvaluator\n",
    "\n",
    "# Initialize Spark session\n",
    "spark = SparkSession.builder.appName(\"ClusterAnalysis\").getOrCreate()\n",
    "\n",
    "# Load data from CSV\n",
    "csv_file_path = 'Merged-data.csv'\n",
    "df = spark.read.csv(csv_file_path, header=True, inferSchema=True)\n",
    "\n",
    "# Filter out rows where 'TeamType' is not 'Total'\n",
    "df = df.filter(col('Team') != 'Total')\n",
    "\n",
    "# Encode categorical variables\n",
    "indexer = StringIndexer(inputCol='Team', outputCol='TeamIndex')\n",
    "df = indexer.fit(df).transform(df)\n",
    "\n",
    "# Standardize numerical features\n",
    "numerical_cols = ['ClientsSeen', 'ClientsSeenFaceToFace', 'Contacts']\n",
    "scaler = StandardScaler(inputCol='features', outputCol='scaled_features', withStd=True, withMean=True)\n",
    "assembler = VectorAssembler(inputCols=numerical_cols, outputCol='features')\n",
    "pipeline = Pipeline(stages=[assembler, scaler])\n",
    "model = pipeline.fit(df)\n",
    "df = model.transform(df)\n",
    "\n",
    "# Select relevant features for clustering\n",
    "selected_features = ['TeamIndex', 'scaled_features']\n",
    "df = df.select(selected_features)\n",
    "\n",
    "# Split the data into training and testing sets (70/30 split)\n",
    "train_df, test_df = df.randomSplit([0.7, 0.3], seed=42)\n",
    "\n",
    "# Choose the optimal number of clusters\n",
    "optimal_k = 3\n",
    "\n",
    "# Fit the KMeans model with the chosen K on the training set\n",
    "kmeans = KMeans(featuresCol='scaled_features', k=optimal_k, seed=42, predictionCol='cluster')\n",
    "model = kmeans.fit(train_df)\n",
    "\n",
    "# Add the 'cluster' column to the original DataFrame\n",
    "clustered_train_df = model.transform(train_df)\n",
    "clustered_test_df = model.transform(test_df)\n",
    "\n",
    "# Display the results for the testing set\n",
    "print(\"Results on Testing Set:\")\n",
    "clustered_test_df.select('TeamIndex', 'scaled_features', 'cluster').show()\n",
    "\n",
    "# Evaluate the model on the testing set using ClusteringEvaluator\n",
    "evaluator = ClusteringEvaluator(featuresCol='scaled_features', predictionCol='cluster')\n",
    "silhouette = evaluator.evaluate(clustered_test_df)\n",
    "print(f\"Silhouette Score on Testing Set: {silhouette}\")\n"
   ]
  },
  {
   "cell_type": "code",
   "execution_count": 3,
   "id": "02138301",
   "metadata": {},
   "outputs": [
    {
     "name": "stdout",
     "output_type": "stream",
     "text": [
      "Davies-Bouldin Index on Testing Set: 0.26866610332469826\n"
     ]
    }
   ],
   "source": [
    "from pyspark.ml.evaluation import ClusteringEvaluator\n",
    "import numpy as np\n",
    "\n",
    "# Selecting the features for Davies-Bouldin Index calculation\n",
    "features_col = 'scaled_features'\n",
    "prediction_col = 'cluster'\n",
    "selected_features = ['TeamIndex', features_col, prediction_col]\n",
    "selected_df = clustered_test_df.select(selected_features)\n",
    "\n",
    "# Collecting the predictions and features into a list\n",
    "predictions_and_features = selected_df.collect()\n",
    "\n",
    "# Extracting the features and predictions\n",
    "features = [np.array(row[features_col].toArray()) for row in predictions_and_features]\n",
    "predictions = [row[prediction_col] for row in predictions_and_features]\n",
    "\n",
    "# Calculating the Davies-Bouldin Index manually\n",
    "num_clusters = optimal_k\n",
    "cluster_centroids = [np.array(model.clusterCenters()[i]) for i in range(num_clusters)]\n",
    "\n",
    "def euclidean_distance(a, b):\n",
    "    return np.linalg.norm(a - b)\n",
    "\n",
    "def calculate_davies_bouldin_index():\n",
    "    cluster_distances = []\n",
    "    for i in range(num_clusters):\n",
    "        cluster_i_indices = [index for index, pred in enumerate(predictions) if pred == i]\n",
    "        centroid_i = cluster_centroids[i]\n",
    "\n",
    "        intra_cluster_distances = []\n",
    "        for index in cluster_i_indices:\n",
    "            feature_vector = features[index]\n",
    "            intra_cluster_distances.append(euclidean_distance(centroid_i, feature_vector))\n",
    "\n",
    "        average_intra_cluster_distance = np.mean(intra_cluster_distances)\n",
    "        inter_cluster_distances = []\n",
    "\n",
    "        for j in range(num_clusters):\n",
    "            if j != i:\n",
    "                centroid_j = cluster_centroids[j]\n",
    "                inter_cluster_distances.append(euclidean_distance(centroid_i, centroid_j))\n",
    "\n",
    "        average_inter_cluster_distance = np.mean(inter_cluster_distances)\n",
    "        cluster_distances.append(average_intra_cluster_distance / average_inter_cluster_distance)\n",
    "\n",
    "    davies_bouldin_index = np.mean(cluster_distances)\n",
    "    return davies_bouldin_index\n",
    "\n",
    "# Calculate Davies-Bouldin Index\n",
    "davies_bouldin_index = calculate_davies_bouldin_index()\n",
    "print(f\"Davies-Bouldin Index on Testing Set: {davies_bouldin_index}\")\n"
   ]
  },
  {
   "cell_type": "code",
   "execution_count": null,
   "id": "2d28757c",
   "metadata": {},
   "outputs": [],
   "source": []
  }
 ],
 "metadata": {
  "kernelspec": {
   "display_name": "Python 3 (ipykernel)",
   "language": "python",
   "name": "python3"
  },
  "language_info": {
   "codemirror_mode": {
    "name": "ipython",
    "version": 3
   },
   "file_extension": ".py",
   "mimetype": "text/x-python",
   "name": "python",
   "nbconvert_exporter": "python",
   "pygments_lexer": "ipython3",
   "version": "3.10.12"
  }
 },
 "nbformat": 4,
 "nbformat_minor": 5
}
