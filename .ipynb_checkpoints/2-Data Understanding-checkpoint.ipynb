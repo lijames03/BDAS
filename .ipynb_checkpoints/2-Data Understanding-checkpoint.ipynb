{
 "cells": [
  {
   "cell_type": "code",
   "execution_count": 1,
   "id": "a66cfb59",
   "metadata": {},
   "outputs": [
    {
     "name": "stderr",
     "output_type": "stream",
     "text": [
      "WARNING: An illegal reflective access operation has occurred\n",
      "WARNING: Illegal reflective access by org.apache.spark.unsafe.Platform (file:/home/ubuntu/spark-3.2.1-bin-hadoop2.7/jars/spark-unsafe_2.12-3.2.1.jar) to constructor java.nio.DirectByteBuffer(long,int)\n",
      "WARNING: Please consider reporting this to the maintainers of org.apache.spark.unsafe.Platform\n",
      "WARNING: Use --illegal-access=warn to enable warnings of further illegal reflective access operations\n",
      "WARNING: All illegal access operations will be denied in a future release\n",
      "Using Spark's default log4j profile: org/apache/spark/log4j-defaults.properties\n",
      "Setting default log level to \"WARN\".\n",
      "To adjust logging level use sc.setLogLevel(newLevel). For SparkR, use setLogLevel(newLevel).\n",
      "23/09/28 01:07:46 WARN NativeCodeLoader: Unable to load native-hadoop library for your platform... using builtin-java classes where applicable\n"
     ]
    }
   ],
   "source": [
    "import findspark\n",
    "findspark.init('/home/ubuntu/spark-3.2.1-bin-hadoop2.7')\n",
    "import pyspark\n",
    "from pyspark.sql import SparkSession\n",
    "spark = SparkSession.builder.appName('Data Understanding').getOrCreate()"
   ]
  },
  {
   "cell_type": "code",
   "execution_count": 2,
   "id": "c6c84076",
   "metadata": {},
   "outputs": [],
   "source": [
    "# Read in the data in the format of csv.\n",
    "df = spark.read.option(\"header\", True).csv('Clients-data.csv')\n",
    "\n"
   ]
  },
  {
   "cell_type": "code",
   "execution_count": 3,
   "id": "56aaa2c1",
   "metadata": {},
   "outputs": [
    {
     "name": "stdout",
     "output_type": "stream",
     "text": [
      "+----+-------------+-------+------+----------------+-----------------+---------+---------------------+------------------+-----------------+---------------------------+---------------+--------------+------------------------+\n",
      "|  ID|FinancialYear|EthMPAO|Gender|FiveYearAgeGroup|ORGANISATION_TYPE|TEAM_TYPE|ACTIVITY_SETTING_CODE|ACTIVITY_TYPE_CODE|NumberClientsSeen|NumberClientsSeenFaceToFace|NumberBednights|NumberContacts|NumberFaceToFaceContacts|\n",
      "+----+-------------+-------+------+----------------+-----------------+---------+---------------------+------------------+-----------------+---------------------------+---------------+--------------+------------------------+\n",
      "|MH53|         2016|  Total| Total|           20-24|            Total|    Total|                Total|             Total|            17981|                      15231|         104010|        420449|                  238323|\n",
      "|MH54|         2016|  Total| Total|           25-29|            Total|    Total|                Total|             Total|            16295|                      13913|         115759|        404799|                  237393|\n",
      "|MH55|         2016|  Total| Total|           30-34|            Total|    Total|                Total|             Total|            14178|                      12166|         105765|        418423|                  261199|\n",
      "|MH56|         2016|  Total| Total|           35-39|            Total|    Total|                Total|             Total|            12752|                      11198|          97326|        400090|                  255654|\n",
      "|MH57|         2016|  Total| Total|           40-44|            Total|    Total|                Total|             Total|            12921|                      11476|         107087|        428629|                  273420|\n",
      "|MH58|         2016|  Total| Total|           45-49|            Total|    Total|                Total|             Total|            11771|                      10533|         116814|        419850|                  278197|\n",
      "|MH59|         2016|  Total| Total|           50-54|            Total|    Total|                Total|             Total|            10122|                       9067|         110311|        383960|                  259258|\n",
      "|MH60|         2016|  Total| Total|           55-59|            Total|    Total|                Total|             Total|             7488|                       6691|          95093|        294936|                  205080|\n",
      "|MH61|         2016|  Total| Total|           60-64|            Total|    Total|                Total|             Total|             5136|                       4590|          76563|        199478|                  139640|\n",
      "|MH62|         2016|  Total| Total|           65-69|            Total|    Total|                Total|             Total|             3875|                       3446|          51756|        120647|                   82267|\n",
      "|MH63|         2016|  Total| Total|           70-74|            Total|    Total|                Total|             Total|             2913|                       2578|          25421|         64846|                   40948|\n",
      "|MH64|         2016|  Total| Total|           75-79|            Total|    Total|                Total|             Total|             2667|                       2359|          16976|         44634|                   27120|\n",
      "|MH65|         2016|  Total| Total|           80-84|            Total|    Total|                Total|             Total|             2348|                       2041|           9914|         28105|                   16050|\n",
      "|MH66|         2016|  Total| Total|             85+|            Total|    Total|                Total|             Total|             2670|                       2307|           5278|         24398|                   13209|\n",
      "|MH67|         2017|  Total| Total|           00-04|            Total|    Total|                Total|             Total|             2097|                       1592|           3374|         17883|                    6936|\n",
      "|MH68|         2017|  Total| Total|           5-Sep|            Total|    Total|                Total|             Total|             9149|                       7491|            964|         99680|                   42583|\n",
      "|MH69|         2017|  Total| Total|          Oct-14|            Total|    Total|                Total|             Total|            16114|                      14017|           7344|        232921|                  110437|\n",
      "|MH70|         2017|  Total| Total|           15-19|            Total|    Total|                Total|             Total|            22550|                      19544|          49449|        408440|                  208388|\n",
      "|MH71|         2017|  Total| Total|           20-24|            Total|    Total|                Total|             Total|            18678|                      15803|          93799|        419347|                  234538|\n",
      "|MH72|         2017|  Total| Total|           25-29|            Total|    Total|                Total|             Total|            17710|                      15215|         118224|        432059|                  251840|\n",
      "+----+-------------+-------+------+----------------+-----------------+---------+---------------------+------------------+-----------------+---------------------------+---------------+--------------+------------------------+\n",
      "only showing top 20 rows\n",
      "\n"
     ]
    },
    {
     "data": {
      "text/plain": [
       "['ID',\n",
       " 'FinancialYear',\n",
       " 'EthMPAO',\n",
       " 'Gender',\n",
       " 'FiveYearAgeGroup',\n",
       " 'ORGANISATION_TYPE',\n",
       " 'TEAM_TYPE',\n",
       " 'ACTIVITY_SETTING_CODE',\n",
       " 'ACTIVITY_TYPE_CODE',\n",
       " 'NumberClientsSeen',\n",
       " 'NumberClientsSeenFaceToFace',\n",
       " 'NumberBednights',\n",
       " 'NumberContacts',\n",
       " 'NumberFaceToFaceContacts']"
      ]
     },
     "execution_count": 3,
     "metadata": {},
     "output_type": "execute_result"
    }
   ],
   "source": [
    "# The show method allows us visualise DataFrames. \n",
    "df.show()\n",
    "\n",
    "# We could also try this. \n",
    "df.columns"
   ]
  },
  {
   "cell_type": "code",
   "execution_count": 4,
   "id": "fa073aec",
   "metadata": {},
   "outputs": [
    {
     "name": "stderr",
     "output_type": "stream",
     "text": [
      "\r",
      "[Stage 2:>                                                          (0 + 2) / 2]\r",
      "\r",
      "                                                                                \r"
     ]
    },
    {
     "data": {
      "image/png": "[encoded data removed]",
      "text/plain": [
       "<Figure size 432x288 with 1 Axes>"
      ]
     },
     "metadata": {
      "needs_background": "light"
     },
     "output_type": "display_data"
    }
   ],
   "source": [
    "import matplotlib.pyplot as plt\n",
    "\n",
    "plt.hist(df.select('Gender').toPandas())\n",
    "plt.show()"
   ]
  },
  {
   "cell_type": "code",
   "execution_count": 6,
   "id": "61563f1a",
   "metadata": {},
   "outputs": [
    {
     "name": "stdout",
     "output_type": "stream",
     "text": [
      "root\n",
      " |-- ID: string (nullable = true)\n",
      " |-- FinancialYear: string (nullable = true)\n",
      " |-- EthMPAO: string (nullable = true)\n",
      " |-- Gender: string (nullable = true)\n",
      " |-- FiveYearAgeGroup: string (nullable = true)\n",
      " |-- ORGANISATION_TYPE: string (nullable = true)\n",
      " |-- TEAM_TYPE: string (nullable = true)\n",
      " |-- ACTIVITY_SETTING_CODE: string (nullable = true)\n",
      " |-- ACTIVITY_TYPE_CODE: string (nullable = true)\n",
      " |-- NumberClientsSeen: string (nullable = true)\n",
      " |-- NumberClientsSeenFaceToFace: string (nullable = true)\n",
      " |-- NumberBednights: string (nullable = true)\n",
      " |-- NumberContacts: string (nullable = true)\n",
      " |-- NumberFaceToFaceContacts: string (nullable = true)\n",
      "\n"
     ]
    },
    {
     "name": "stderr",
     "output_type": "stream",
     "text": [
      "[Stage 3:=============================>                             (1 + 1) / 2]\r"
     ]
    },
    {
     "name": "stdout",
     "output_type": "stream",
     "text": [
      "+-------+------+------------------+-------+------+----------------+-----------------+--------------------+---------------------+------------------+------------------+---------------------------+-----------------+------------------+------------------------+\n",
      "|summary|    ID|     FinancialYear|EthMPAO|Gender|FiveYearAgeGroup|ORGANISATION_TYPE|           TEAM_TYPE|ACTIVITY_SETTING_CODE|ACTIVITY_TYPE_CODE| NumberClientsSeen|NumberClientsSeenFaceToFace|  NumberBednights|    NumberContacts|NumberFaceToFaceContacts|\n",
      "+-------+------+------------------+-------+------+----------------+-----------------+--------------------+---------------------+------------------+------------------+---------------------------+-----------------+------------------+------------------------+\n",
      "|  count|192220|            192220| 192220|192220|          192220|           192220|              192220|               192220|            192220|            192220|                     192220|           192220|            192220|                  192220|\n",
      "|   mean|  null|2018.0523046509209|   null|  null|            null|             null|                null|                 null|              null| 402.2456039954219|         253.92870148787847|1104.044423056914| 4508.098444490688|      2597.5649464155654|\n",
      "| stddev|  null|2.5674996643707075|   null|  null|            null|             null|                null|                 null|              null|1254.4776953724959|            928.94037711979|5471.018758807484|20406.843279327953|       12452.96486717336|\n",
      "|    min| MH100|              2014|  Asian|Female|           00-04|              DHB|Alcohol and Drug ...|                   AV|               T01|                 1|                          0|                0|                 0|                       0|\n",
      "|    max|MH9999|              2022|  Total| Total|          Oct-14|            Total|               Total|                   YJ|             Total|               999|                       9996|             9998|             99986|                    9995|\n",
      "+-------+------+------------------+-------+------+----------------+-----------------+--------------------+---------------------+------------------+------------------+---------------------------+-----------------+------------------+------------------------+\n",
      "\n"
     ]
    },
    {
     "name": "stderr",
     "output_type": "stream",
     "text": [
      "\r",
      "                                                                                \r"
     ]
    }
   ],
   "source": [
    "# Create a Spark session\n",
    "spark = SparkSession.builder.appName(\"SparkColumnPlot\").getOrCreate()\n",
    "\n",
    "# Print the schema of the Spark DataFrame\n",
    "df.printSchema()\n",
    "\n",
    "# Describe the Spark DataFrame to get statistics\n",
    "df.describe().show()"
   ]
  },
  {
   "cell_type": "code",
   "execution_count": 7,
   "id": "1ce7eed2",
   "metadata": {},
   "outputs": [
    {
     "name": "stdout",
     "output_type": "stream",
     "text": [
      "Number of Rows: 192220\n",
      "Number of Columns/Attributes: 14\n",
      "Column Names: ['ID', 'FinancialYear', 'EthMPAO', 'Gender', 'FiveYearAgeGroup', 'ORGANISATION_TYPE', 'TEAM_TYPE', 'ACTIVITY_SETTING_CODE', 'ACTIVITY_TYPE_CODE', 'NumberClientsSeen', 'NumberClientsSeenFaceToFace', 'NumberBednights', 'NumberContacts', 'NumberFaceToFaceContacts']\n"
     ]
    }
   ],
   "source": [
    "# Create a Spark session\n",
    "spark = SparkSession.builder.appName(\"DataFrameInfo\").getOrCreate()\n",
    "\n",
    "# Number of rows\n",
    "num_rows = df.count()\n",
    "\n",
    "# Number of columns/attributes\n",
    "num_columns = len(df.columns)\n",
    "\n",
    "# Name of each column\n",
    "column_names = df.columns\n",
    "\n",
    "# Print the information\n",
    "print(f\"Number of Rows: {num_rows}\")\n",
    "print(f\"Number of Columns/Attributes: {num_columns}\")\n",
    "print(f\"Column Names: {column_names}\")"
   ]
  },
  {
   "cell_type": "code",
   "execution_count": 1,
   "id": "4c1f83b3",
   "metadata": {},
   "outputs": [
    {
     "name": "stderr",
     "output_type": "stream",
     "text": [
      "WARNING: An illegal reflective access operation has occurred\n",
      "WARNING: Illegal reflective access by org.apache.spark.unsafe.Platform (file:/home/ubuntu/.local/lib/python3.10/site-packages/pyspark/jars/spark-unsafe_2.12-3.2.1.jar) to constructor java.nio.DirectByteBuffer(long,int)\n",
      "WARNING: Please consider reporting this to the maintainers of org.apache.spark.unsafe.Platform\n",
      "WARNING: Use --illegal-access=warn to enable warnings of further illegal reflective access operations\n",
      "WARNING: All illegal access operations will be denied in a future release\n",
      "Using Spark's default log4j profile: org/apache/spark/log4j-defaults.properties\n",
      "Setting default log level to \"WARN\".\n",
      "To adjust logging level use sc.setLogLevel(newLevel). For SparkR, use setLogLevel(newLevel).\n",
      "23/09/28 03:58:30 WARN NativeCodeLoader: Unable to load native-hadoop library for your platform... using builtin-java classes where applicable\n",
      "                                                                                \r"
     ]
    },
    {
     "data": {
      "image/png": "[encoded data removed]",
      "text/plain": [
       "<Figure size 720x432 with 1 Axes>"
      ]
     },
     "metadata": {
      "needs_background": "light"
     },
     "output_type": "display_data"
    }
   ],
   "source": [
    "from pyspark.sql import SparkSession\n",
    "import matplotlib.pyplot as plt\n",
    "import seaborn as sns\n",
    "\n",
    "# Create a Spark session\n",
    "spark = SparkSession.builder.appName(\"EthMPAO_Plot\").getOrCreate()\n",
    "\n",
    "# Read the CSV file into a DataFrame\n",
    "df = spark.read.csv('Clients-data.csv', header=True, inferSchema=True)\n",
    "\n",
    "# Filter data for EthMPAO value 'Total'\n",
    "filtered_data = df.filter(df['EthMPAO'] == 'Total')\n",
    "\n",
    "# Calculate the sum of NumberClientsSeen for the 'Total' EthMPAO group\n",
    "sum_data = filtered_data.groupBy('FinancialYear', 'EthMPAO').agg({'NumberClientsSeen': 'sum'})\n",
    "\n",
    "# Convert PySpark DataFrame to Pandas DataFrame for plotting\n",
    "pandas_data = sum_data.toPandas()\n",
    "\n",
    "# Plot the data using Seaborn\n",
    "plt.figure(figsize=(10, 6))\n",
    "sns.lineplot(x='FinancialYear', y='sum(NumberClientsSeen)', data=pandas_data, marker='o')\n",
    "plt.title('Sum of Number of Clients Seen Over Time for Total EthMPAO')\n",
    "plt.xlabel('Financial Year')\n",
    "plt.ylabel('Sum of Number of Clients Seen')\n",
    "plt.show()\n",
    "\n",
    "# Stop the Spark session\n",
    "spark.stop()\n",
    "\n",
    "\n",
    "\n",
    "\n",
    "\n"
   ]
  },
  {
   "cell_type": "code",
   "execution_count": 2,
   "id": "e4f845f1",
   "metadata": {},
   "outputs": [
    {
     "name": "stderr",
     "output_type": "stream",
     "text": [
      "                                                                                \r"
     ]
    },
    {
     "data": {
      "image/png": "[encoded data removed]",
      "text/plain": [
       "<Figure size 720x432 with 1 Axes>"
      ]
     },
     "metadata": {
      "needs_background": "light"
     },
     "output_type": "display_data"
    }
   ],
   "source": [
    "from pyspark.sql import SparkSession\n",
    "import matplotlib.pyplot as plt\n",
    "import seaborn as sns\n",
    "\n",
    "# Create a Spark session\n",
    "spark = SparkSession.builder.appName(\"EthMPAO_Plot\").getOrCreate()\n",
    "\n",
    "# Read the CSV file into a DataFrame\n",
    "df = spark.read.csv('Clients-data.csv', header=True, inferSchema=True)\n",
    "\n",
    "# Filter data for EthMPAO values 'Maori', 'Asian', and 'Pacific', excluding 'Total'\n",
    "filtered_data = df.filter((df['EthMPAO'].isin(['Maori', 'Asian', 'Pacific', 'Other'])) & (df['EthMPAO'] != 'Total'))\n",
    "\n",
    "# Calculate the sum of NumberClientsSeen for each EthMPAO group\n",
    "sum_data = filtered_data.groupBy('FinancialYear', 'EthMPAO').agg({'NumberClientsSeen': 'sum'})\n",
    "\n",
    "# Convert PySpark DataFrame to Pandas DataFrame for plotting\n",
    "pandas_data = sum_data.toPandas()\n",
    "\n",
    "# Plot the data using Seaborn\n",
    "plt.figure(figsize=(10, 6))\n",
    "sns.lineplot(x='FinancialYear', y='sum(NumberClientsSeen)', hue='EthMPAO', data=pandas_data, marker='o')\n",
    "plt.title('Sum of Number of Clients Seen Over Time for Maori, Asian, Pacific, and Other EthMPAO (Excluding Total)')\n",
    "plt.xlabel('Financial Year')\n",
    "plt.ylabel('Sum of Number of Clients Seen')\n",
    "plt.legend(title='EthMPAO', loc='upper left')\n",
    "plt.show()\n",
    "\n",
    "# Stop the Spark session\n",
    "spark.stop()\n",
    "\n",
    "\n"
   ]
  },
  {
   "cell_type": "code",
   "execution_count": 22,
   "id": "9bd2e555",
   "metadata": {},
   "outputs": [
    {
     "name": "stderr",
     "output_type": "stream",
     "text": [
      "[Stage 61:=============================>                            (1 + 1) / 2]\r"
     ]
    },
    {
     "name": "stdout",
     "output_type": "stream",
     "text": [
      "+-------+-------------+-----------------+---------------------------+---------------+--------------+------------------------+\n",
      "|summary|FinancialYear|NumberClientsSeen|NumberClientsSeenFaceToFace|NumberBednights|NumberContacts|NumberFaceToFaceContacts|\n",
      "+-------+-------------+-----------------+---------------------------+---------------+--------------+------------------------+\n",
      "|count  |192,220.00   |192,220.00       |192,220.00                 |192,220.00     |192,220.00    |192,220.00              |\n",
      "|mean   |2,018.05     |402.25           |253.93                     |1,104.04       |4,508.10      |2,597.56                |\n",
      "|stddev |2.57         |1,254.48         |928.94                     |5,471.02       |20,406.84     |12,452.96               |\n",
      "|min    |2,014.00     |1.00             |0.00                       |0.00           |0.00          |0.00                    |\n",
      "|max    |2,022.00     |999.00           |9,996.00                   |9,998.00       |99,986.00     |9,995.00                |\n",
      "+-------+-------------+-----------------+---------------------------+---------------+--------------+------------------------+\n",
      "\n"
     ]
    },
    {
     "name": "stderr",
     "output_type": "stream",
     "text": [
      "\r",
      "                                                                                \r"
     ]
    }
   ],
   "source": [
    "from pyspark.sql import SparkSession\n",
    "from pyspark.sql.functions import format_number\n",
    "\n",
    "# Create a Spark session\n",
    "spark = SparkSession.builder.appName(\"summary statistics\").getOrCreate()\n",
    "\n",
    "# Read the data from the CSV file\n",
    "df = spark.read.option(\"header\", True).csv('Clients-data.csv')\n",
    "\n",
    "# Select the columns for which you want summary statistics\n",
    "selected_columns = [\n",
    "    'FinancialYear',\n",
    "    'NumberClientsSeen',\n",
    "    'NumberClientsSeenFaceToFace',\n",
    "    'NumberBednights',\n",
    "    'NumberContacts',\n",
    "    'NumberFaceToFaceContacts'\n",
    "]\n",
    "\n",
    "# Show summary statistics for the selected columns with two decimal places\n",
    "summary_df = df.select(selected_columns).describe()\n",
    "\n",
    "# Format the summary statistics to show only two decimal places\n",
    "formatted_summary_df = summary_df.select(\n",
    "    summary_df[\"summary\"],\n",
    "    *[format_number(col(c).cast(\"double\"), 2).alias(c) for c in selected_columns]\n",
    ")\n",
    "\n",
    "formatted_summary_df.show(truncate=False)\n",
    "\n"
   ]
  },
  {
   "cell_type": "code",
   "execution_count": 24,
   "id": "b8428b52",
   "metadata": {},
   "outputs": [
    {
     "name": "stderr",
     "output_type": "stream",
     "text": [
      "                                                                                \r"
     ]
    },
    {
     "name": "stdout",
     "output_type": "stream",
     "text": [
      "Correlation Matrix:\n",
      "                             FinancialYear  NumberClientsSeen  \\\n",
      "FinancialYear                     1.000000           0.012065   \n",
      "NumberClientsSeen                 0.012065           1.000000   \n",
      "NumberClientsSeenFaceToFace      -0.003118           0.837227   \n",
      "NumberBednights                  -0.010418           0.299572   \n",
      "NumberContacts                   -0.001639           0.829803   \n",
      "NumberFaceToFaceContacts         -0.017423           0.719978   \n",
      "\n",
      "                             NumberClientsSeenFaceToFace  NumberBednights  \\\n",
      "FinancialYear                                  -0.003118        -0.010418   \n",
      "NumberClientsSeen                               0.837227         0.299572   \n",
      "NumberClientsSeenFaceToFace                     1.000000         0.366434   \n",
      "NumberBednights                                 0.366434         1.000000   \n",
      "NumberContacts                                  0.827169         0.473443   \n",
      "NumberFaceToFaceContacts                        0.855477         0.472847   \n",
      "\n",
      "                             NumberContacts  NumberFaceToFaceContacts  \n",
      "FinancialYear                     -0.001639                 -0.017423  \n",
      "NumberClientsSeen                  0.829803                  0.719978  \n",
      "NumberClientsSeenFaceToFace        0.827169                  0.855477  \n",
      "NumberBednights                    0.473443                  0.472847  \n",
      "NumberContacts                     1.000000                  0.949987  \n",
      "NumberFaceToFaceContacts           0.949987                  1.000000  \n"
     ]
    }
   ],
   "source": [
    "from pyspark.sql import SparkSession\n",
    "from pyspark.sql.functions import corr\n",
    "from pyspark.sql.types import DoubleType\n",
    "\n",
    "# Create a Spark session\n",
    "spark = SparkSession.builder.appName(\"correlation\").getOrCreate()\n",
    "\n",
    "# Read the data from the CSV file\n",
    "df = spark.read.option(\"header\", True).csv('Clients-data.csv')\n",
    "\n",
    "# Select the columns for which you want to compute correlations\n",
    "selected_columns = [\n",
    "    'FinancialYear',\n",
    "    'NumberClientsSeen',\n",
    "    'NumberClientsSeenFaceToFace',\n",
    "    'NumberBednights',\n",
    "    'NumberContacts',\n",
    "    'NumberFaceToFaceContacts'\n",
    "]\n",
    "\n",
    "# Cast columns to DoubleType\n",
    "df_corr = df.select([col(c).cast(DoubleType()) for c in selected_columns])\n",
    "\n",
    "# Compute the correlation matrix\n",
    "correlation_matrix = df_corr.toPandas().corr()\n",
    "\n",
    "# Display the correlation matrix\n",
    "print(\"Correlation Matrix:\")\n",
    "print(correlation_matrix)\n",
    "\n",
    "\n"
   ]
  },
  {
   "cell_type": "code",
   "execution_count": 4,
   "id": "8c0fbe65",
   "metadata": {},
   "outputs": [
    {
     "name": "stdout",
     "output_type": "stream",
     "text": [
      "Defaulting to user installation because normal site-packages is not writeable\n",
      "Collecting scikit-learn\n",
      "  Downloading scikit_learn-1.3.1-cp310-cp310-manylinux_2_17_x86_64.manylinux2014_x86_64.whl (10.8 MB)\n",
      "\u001b[2K     \u001b[90m━━━━━━━━━━━━━━━━━━━━━━━━━━━━━━━━━━━━━━━━\u001b[0m \u001b[32m10.8/10.8 MB\u001b[0m \u001b[31m62.5 MB/s\u001b[0m eta \u001b[36m0:00:00\u001b[0m00:01\u001b[0m0:01\u001b[0m\n",
      "\u001b[?25hCollecting threadpoolctl>=2.0.0\n",
      "  Downloading threadpoolctl-3.2.0-py3-none-any.whl (15 kB)\n",
      "Requirement already satisfied: scipy>=1.5.0 in /home/ubuntu/.local/lib/python3.10/site-packages (from scikit-learn) (1.8.1)\n",
      "Collecting joblib>=1.1.1\n",
      "  Downloading joblib-1.3.2-py3-none-any.whl (302 kB)\n",
      "\u001b[2K     \u001b[90m━━━━━━━━━━━━━━━━━━━━━━━━━━━━━━━━━━━━━━\u001b[0m \u001b[32m302.2/302.2 KB\u001b[0m \u001b[31m34.4 MB/s\u001b[0m eta \u001b[36m0:00:00\u001b[0m\n",
      "\u001b[?25hRequirement already satisfied: numpy<2.0,>=1.17.3 in /home/ubuntu/.local/lib/python3.10/site-packages (from scikit-learn) (1.22.4)\n",
      "Installing collected packages: threadpoolctl, joblib, scikit-learn\n",
      "Successfully installed joblib-1.3.2 scikit-learn-1.3.1 threadpoolctl-3.2.0\n"
     ]
    }
   ],
   "source": [
    "!pip install scikit-learn"
   ]
  },
  {
   "cell_type": "code",
   "execution_count": 15,
   "id": "ce0d9e57",
   "metadata": {},
   "outputs": [
    {
     "data": {
      "image/png": "[encoded data removed]",
      "text/plain": [
       "<Figure size 864x432 with 1 Axes>"
      ]
     },
     "metadata": {
      "needs_background": "light"
     },
     "output_type": "display_data"
    }
   ],
   "source": [
    "# Import necessary libraries\n",
    "import pandas as pd\n",
    "from sklearn.ensemble import RandomForestClassifier\n",
    "import matplotlib.pyplot as plt\n",
    "import seaborn as sns\n",
    "\n",
    "# Load the dataset\n",
    "df = pd.read_csv('Clients-data.csv')\n",
    "\n",
    "# Select a random sample\n",
    "random_sample = df.sample(n=10000)\n",
    "\n",
    "# Separate the target variable 'EthMPAO' and the features\n",
    "X = random_sample.drop('EthMPAO', axis=1)\n",
    "y = random_sample['EthMPAO']\n",
    "\n",
    "# Convert categorical features to numerical using one-hot encoding\n",
    "X_encoded = pd.get_dummies(X)\n",
    "X_encoded.dropna(axis=0, inplace=True)\n",
    "y = y.loc[X_encoded.index]  # Update y to match the filtered X_encoded\n",
    "\n",
    "# Initialize a random forest classifier\n",
    "clf = RandomForestClassifier(random_state=42)\n",
    "\n",
    "# Fit the model to the data\n",
    "clf.fit(X_encoded, y)\n",
    "\n",
    "# Get feature importances from the trained model\n",
    "feature_importances = clf.feature_importances_\n",
    "\n",
    "# Create a DataFrame to store feature names and their importance scores\n",
    "feature_importance_df = pd.DataFrame({'Feature': X_encoded.columns, 'Importance': feature_importances})\n",
    "\n",
    "# Sort the features by importance in descending order\n",
    "feature_importance_df = feature_importance_df.sort_values(by='Importance', ascending=False)\n",
    "\n",
    "# Plot the top N most important features\n",
    "top_n = 5  # We can change this value to show more or fewer top features\n",
    "plt.figure(figsize=(12, 6))\n",
    "\n",
    "sns.barplot(data=feature_importance_df.head(top_n), x='Importance', y='Feature', palette='viridis')\n",
    "\n",
    "plt.xlabel('Importance')\n",
    "plt.ylabel('Feature')\n",
    "plt.title(f'Top {top_n} Feature Importance for EthMPAO Classification')\n",
    "\n",
    "plt.tight_layout()\n",
    "plt.show()\n"
   ]
  },
  {
   "cell_type": "code",
   "execution_count": 17,
   "id": "62dc61e0",
   "metadata": {},
   "outputs": [
    {
     "name": "stdout",
     "output_type": "stream",
     "text": [
      "Top 5 Feature Importance Scores:\n",
      "1. NumberClientsSeen: 0.048576\n",
      "2. NumberContacts: 0.046659\n",
      "3. NumberClientsSeenFaceToFace: 0.043628\n",
      "4. NumberFaceToFaceContacts: 0.039819\n",
      "5. ACTIVITY_SETTING_CODE_Total: 0.037728\n"
     ]
    }
   ],
   "source": [
    "# Import necessary libraries\n",
    "import pandas as pd\n",
    "from sklearn.ensemble import RandomForestClassifier\n",
    "import matplotlib.pyplot as plt\n",
    "import seaborn as sns\n",
    "\n",
    "# Load the dataset\n",
    "df = pd.read_csv('Clients-data.csv')\n",
    "\n",
    "# Select a random sample\n",
    "random_sample = df.sample(n=10000)\n",
    "\n",
    "# Separate the target variable 'EthMPAO' and the features\n",
    "X = random_sample.drop('EthMPAO', axis=1)\n",
    "y = random_sample['EthMPAO']\n",
    "\n",
    "# Convert categorical features to numerical using one-hot encoding\n",
    "X_encoded = pd.get_dummies(X)\n",
    "X_encoded.dropna(axis=0, inplace=True)\n",
    "y = y.loc[X_encoded.index]  # Update y to match the filtered X_encoded\n",
    "\n",
    "# Initialize a random forest classifier\n",
    "clf = RandomForestClassifier(random_state=42)\n",
    "\n",
    "# Fit the model to the data\n",
    "clf.fit(X_encoded, y)\n",
    "\n",
    "# Get feature importances from the trained model\n",
    "feature_importances = clf.feature_importances_\n",
    "\n",
    "# Create a DataFrame to store feature names and their importance scores\n",
    "feature_importance_df = pd.DataFrame({'Feature': X_encoded.columns, 'Importance': feature_importances})\n",
    "\n",
    "# Sort the features by importance in descending order\n",
    "feature_importance_df = feature_importance_df.sort_values(by='Importance', ascending=False)\n",
    "\n",
    "# Print the top N most important features and their importance scores\n",
    "top_n = 5  # We can change this value to show more or fewer top features\n",
    "top_features = feature_importance_df.head(top_n)\n",
    "\n",
    "# Display the feature importance scores\n",
    "print(f\"Top {top_n} Feature Importance Scores:\")\n",
    "for rank, (feature, importance) in enumerate(zip(top_features['Feature'], top_features['Importance']), start=1):\n",
    "    print(f\"{rank}. {feature}: {importance:.6f}\")\n",
    "\n"
   ]
  },
  {
   "cell_type": "code",
   "execution_count": 20,
   "id": "2580208d",
   "metadata": {},
   "outputs": [
    {
     "name": "stderr",
     "output_type": "stream",
     "text": [
      "23/09/28 21:34:35 WARN TaskSetManager: Stage 0 contains a task of very large size (4317 KiB). The maximum recommended task size is 1000 KiB.\n",
      "                                                                                \r"
     ]
    },
    {
     "name": "stdout",
     "output_type": "stream",
     "text": [
      "+----------------+------------------+\n",
      "|FiveYearAgeGroup|   MeanClientsSeen|\n",
      "+----------------+------------------+\n",
      "|           20-24|  613.433633544958|\n",
      "|           65-69|167.69068455853753|\n",
      "|           80-84| 122.8889547813195|\n",
      "|           75-79| 132.0153884964682|\n",
      "|          Oct-14| 626.8613187021095|\n",
      "|           5-Sep| 393.8595041322314|\n",
      "|           30-34| 524.7787912495365|\n",
      "|           70-74|141.30770908297896|\n",
      "|           15-19| 740.8718026107297|\n",
      "|           00-04| 118.9576119402985|\n",
      "|             85+|148.92631578947368|\n",
      "|           50-54| 371.3683380637023|\n",
      "|           35-39|460.35053340394944|\n",
      "|           45-49|422.45746078355614|\n",
      "|           25-29|  585.787205882353|\n",
      "|           40-44|434.12665752171927|\n",
      "|           55-59| 306.2243950944647|\n",
      "|           60-64|225.87660397257866|\n",
      "+----------------+------------------+\n",
      "\n"
     ]
    },
    {
     "name": "stderr",
     "output_type": "stream",
     "text": [
      "23/09/28 21:34:37 WARN TaskSetManager: Stage 3 contains a task of very large size (4317 KiB). The maximum recommended task size is 1000 KiB.\n",
      "                                                                                \r"
     ]
    },
    {
     "name": "stdout",
     "output_type": "stream",
     "text": [
      "+-------+----------------+\n",
      "|summary|FiveYearAgeGroup|\n",
      "+-------+----------------+\n",
      "|  count|          192220|\n",
      "|   mean|            null|\n",
      "| stddev|            null|\n",
      "|    min|           00-04|\n",
      "|    max|          Oct-14|\n",
      "+-------+----------------+\n",
      "\n"
     ]
    },
    {
     "name": "stderr",
     "output_type": "stream",
     "text": [
      "23/09/28 21:34:38 WARN TaskSetManager: Stage 6 contains a task of very large size (4317 KiB). The maximum recommended task size is 1000 KiB.\n"
     ]
    },
    {
     "name": "stdout",
     "output_type": "stream",
     "text": [
      "Unique districts using PySpark: ['20-24', '65-69', '80-84', '75-79', 'Oct-14', '5-Sep', '30-34', '70-74', '15-19', '00-04', '85+', '50-54', '35-39', '45-49', '25-29', '40-44', '55-59', '60-64']\n"
     ]
    },
    {
     "name": "stderr",
     "output_type": "stream",
     "text": [
      "23/09/28 21:34:39 WARN TaskSetManager: Stage 9 contains a task of very large size (4317 KiB). The maximum recommended task size is 1000 KiB.\n"
     ]
    },
    {
     "name": "stdout",
     "output_type": "stream",
     "text": [
      "+----------------+------------------+\n",
      "|FiveYearAgeGroup|   MeanClientsSeen|\n",
      "+----------------+------------------+\n",
      "|           00-04| 118.9576119402985|\n",
      "|           80-84| 122.8889547813195|\n",
      "|           75-79| 132.0153884964682|\n",
      "|           70-74|141.30770908297896|\n",
      "|             85+|148.92631578947368|\n",
      "|           65-69|167.69068455853753|\n",
      "|           60-64|225.87660397257866|\n",
      "|           55-59| 306.2243950944647|\n",
      "|           50-54| 371.3683380637023|\n",
      "|           5-Sep| 393.8595041322314|\n",
      "+----------------+------------------+\n",
      "\n"
     ]
    }
   ],
   "source": [
    "from pyspark.sql import SparkSession\n",
    "from pyspark.sql import functions as F\n",
    "\n",
    "# Convert pandas DataFrame to PySpark DataFrame\n",
    "df_spark = spark.createDataFrame(df)\n",
    "\n",
    "# Display the mean of 'NumberClientsSeen' grouped by 'FiveYearAgeGroup'\n",
    "result = df_spark.groupby('FiveYearAgeGroup').agg(F.mean('NumberClientsSeen').alias('MeanClientsSeen'))\n",
    "result.show()\n",
    "\n",
    "# Display descriptive statistics for 'FiveYearAgeGroup'\n",
    "df_spark.select('FiveYearAgeGroup').describe().show()\n",
    "\n",
    "# Get unique districts using PySpark\n",
    "unique_districts_spark = df_spark.select('FiveYearAgeGroup').distinct().rdd.flatMap(lambda x: x).collect()\n",
    "print(\"Unique districts using PySpark:\", unique_districts_spark)\n",
    "\n",
    "# Calculate mean of 'NumberClientsSeen' for each 'FiveYearAgeGroup' and get the smallest 10\n",
    "mean_clients_seen_spark = df_spark.groupby('FiveYearAgeGroup').agg(F.mean('NumberClientsSeen').alias('MeanClientsSeen'))\n",
    "mean_clients_seen_spark = mean_clients_seen_spark.na.drop()  # Drop rows with null values, if any\n",
    "mean_clients_seen_spark = mean_clients_seen_spark.orderBy('MeanClientsSeen').limit(10)\n",
    "mean_clients_seen_spark.show()\n",
    "\n",
    "\n"
   ]
  },
  {
   "cell_type": "code",
   "execution_count": 22,
   "id": "9a6160f2",
   "metadata": {},
   "outputs": [
    {
     "data": {
      "image/png": "[encoded data removed]",
      "text/plain": [
       "<Figure size 720x432 with 1 Axes>"
      ]
     },
     "metadata": {
      "needs_background": "light"
     },
     "output_type": "display_data"
    }
   ],
   "source": [
    "import matplotlib.pyplot as plt\n",
    "\n",
    "# Collect data from PySpark DataFrame\n",
    "pandas_result = result.toPandas()\n",
    "\n",
    "# Sort the pandas DataFrame by 'MeanClientsSeen' in ascending order\n",
    "pandas_result = pandas_result.sort_values(by='MeanClientsSeen')\n",
    "\n",
    "# Plot the mean number of clients seen\n",
    "plt.figure(figsize=(10, 6))\n",
    "plt.bar(pandas_result['FiveYearAgeGroup'], pandas_result['MeanClientsSeen'])\n",
    "plt.xlabel('FiveYearAgeGroup')\n",
    "plt.ylabel('MeanClientsSeen')\n",
    "plt.title('Mean Number of Clients Seen by Age Group (Ascending Order)')\n",
    "plt.show()\n",
    "\n"
   ]
  },
  {
   "cell_type": "code",
   "execution_count": 24,
   "id": "ae7cb4f1",
   "metadata": {},
   "outputs": [
    {
     "name": "stdout",
     "output_type": "stream",
     "text": [
      "<class 'pandas.core.frame.DataFrame'>\n",
      "RangeIndex: 192220 entries, 0 to 192219\n",
      "Data columns (total 14 columns):\n",
      " #   Column                       Non-Null Count   Dtype \n",
      "---  ------                       --------------   ----- \n",
      " 0   ID                           192220 non-null  object\n",
      " 1   FinancialYear                192220 non-null  int64 \n",
      " 2   EthMPAO                      192220 non-null  object\n",
      " 3   Gender                       192220 non-null  object\n",
      " 4   FiveYearAgeGroup             192220 non-null  object\n",
      " 5   ORGANISATION_TYPE            192220 non-null  object\n",
      " 6   TEAM_TYPE                    192220 non-null  object\n",
      " 7   ACTIVITY_SETTING_CODE        192220 non-null  object\n",
      " 8   ACTIVITY_TYPE_CODE           192220 non-null  object\n",
      " 9   NumberClientsSeen            192220 non-null  int64 \n",
      " 10  NumberClientsSeenFaceToFace  192220 non-null  int64 \n",
      " 11  NumberBednights              192220 non-null  int64 \n",
      " 12  NumberContacts               192220 non-null  int64 \n",
      " 13  NumberFaceToFaceContacts     192220 non-null  int64 \n",
      "dtypes: int64(6), object(8)\n",
      "memory usage: 20.5+ MB\n"
     ]
    }
   ],
   "source": [
    "import pandas as pd\n",
    "\n",
    "\n",
    "df.describe()\n",
    "df.info()"
   ]
  },
  {
   "cell_type": "code",
   "execution_count": 25,
   "id": "962a4b38",
   "metadata": {},
   "outputs": [
    {
     "name": "stderr",
     "output_type": "stream",
     "text": [
      "23/09/28 21:50:26 WARN TaskSetManager: Stage 17 contains a task of very large size (4317 KiB). The maximum recommended task size is 1000 KiB.\n"
     ]
    },
    {
     "name": "stdout",
     "output_type": "stream",
     "text": [
      "+---+-------------+-------+------+----------------+-----------------+---------+---------------------+------------------+-----------------+---------------------------+---------------+--------------+------------------------+\n",
      "| ID|FinancialYear|EthMPAO|Gender|FiveYearAgeGroup|ORGANISATION_TYPE|TEAM_TYPE|ACTIVITY_SETTING_CODE|ACTIVITY_TYPE_CODE|NumberClientsSeen|NumberClientsSeenFaceToFace|NumberBednights|NumberContacts|NumberFaceToFaceContacts|\n",
      "+---+-------------+-------+------+----------------+-----------------+---------+---------------------+------------------+-----------------+---------------------------+---------------+--------------+------------------------+\n",
      "|  0|            0|      0|     0|               0|                0|        0|                    0|                 0|                0|                          0|              0|             0|                       0|\n",
      "+---+-------------+-------+------+----------------+-----------------+---------+---------------------+------------------+-----------------+---------------------------+---------------+--------------+------------------------+\n",
      "\n"
     ]
    }
   ],
   "source": [
    "from pyspark.sql import SparkSession\n",
    "from pyspark.sql.functions import col\n",
    "\n",
    "# Create a Spark session\n",
    "spark = SparkSession.builder.appName(\"missing value\").getOrCreate()\n",
    "\n",
    "\n",
    "# Display the count of missing values for each column\n",
    "missing_values_spark = df_spark.agg(*[F.sum(F.col(c).isNull().cast(\"int\")).alias(c) for c in df_spark.columns])\n",
    "missing_values_spark.show()\n"
   ]
  },
  {
   "cell_type": "code",
   "execution_count": 26,
   "id": "67d5a778",
   "metadata": {},
   "outputs": [
    {
     "name": "stderr",
     "output_type": "stream",
     "text": [
      "23/09/28 21:51:44 WARN TaskSetManager: Stage 20 contains a task of very large size (4317 KiB). The maximum recommended task size is 1000 KiB.\n"
     ]
    },
    {
     "data": {
      "text/html": [
       "<div>\n",
       "<style scoped>\n",
       "    .dataframe tbody tr th:only-of-type {\n",
       "        vertical-align: middle;\n",
       "    }\n",
       "\n",
       "    .dataframe tbody tr th {\n",
       "        vertical-align: top;\n",
       "    }\n",
       "\n",
       "    .dataframe thead th {\n",
       "        text-align: right;\n",
       "    }\n",
       "</style>\n",
       "<table border=\"1\" class=\"dataframe\">\n",
       "  <thead>\n",
       "    <tr style=\"text-align: right;\">\n",
       "      <th></th>\n",
       "      <th>Count of Missing Values</th>\n",
       "    </tr>\n",
       "  </thead>\n",
       "  <tbody>\n",
       "    <tr>\n",
       "      <th>ID</th>\n",
       "      <td>0</td>\n",
       "    </tr>\n",
       "    <tr>\n",
       "      <th>FinancialYear</th>\n",
       "      <td>0</td>\n",
       "    </tr>\n",
       "    <tr>\n",
       "      <th>EthMPAO</th>\n",
       "      <td>0</td>\n",
       "    </tr>\n",
       "    <tr>\n",
       "      <th>Gender</th>\n",
       "      <td>0</td>\n",
       "    </tr>\n",
       "    <tr>\n",
       "      <th>FiveYearAgeGroup</th>\n",
       "      <td>0</td>\n",
       "    </tr>\n",
       "    <tr>\n",
       "      <th>ORGANISATION_TYPE</th>\n",
       "      <td>0</td>\n",
       "    </tr>\n",
       "    <tr>\n",
       "      <th>TEAM_TYPE</th>\n",
       "      <td>0</td>\n",
       "    </tr>\n",
       "    <tr>\n",
       "      <th>ACTIVITY_SETTING_CODE</th>\n",
       "      <td>0</td>\n",
       "    </tr>\n",
       "    <tr>\n",
       "      <th>ACTIVITY_TYPE_CODE</th>\n",
       "      <td>0</td>\n",
       "    </tr>\n",
       "    <tr>\n",
       "      <th>NumberClientsSeen</th>\n",
       "      <td>0</td>\n",
       "    </tr>\n",
       "    <tr>\n",
       "      <th>NumberClientsSeenFaceToFace</th>\n",
       "      <td>0</td>\n",
       "    </tr>\n",
       "    <tr>\n",
       "      <th>NumberBednights</th>\n",
       "      <td>0</td>\n",
       "    </tr>\n",
       "    <tr>\n",
       "      <th>NumberContacts</th>\n",
       "      <td>0</td>\n",
       "    </tr>\n",
       "    <tr>\n",
       "      <th>NumberFaceToFaceContacts</th>\n",
       "      <td>0</td>\n",
       "    </tr>\n",
       "  </tbody>\n",
       "</table>\n",
       "</div>"
      ],
      "text/plain": [
       "                             Count of Missing Values\n",
       "ID                                                 0\n",
       "FinancialYear                                      0\n",
       "EthMPAO                                            0\n",
       "Gender                                             0\n",
       "FiveYearAgeGroup                                   0\n",
       "ORGANISATION_TYPE                                  0\n",
       "TEAM_TYPE                                          0\n",
       "ACTIVITY_SETTING_CODE                              0\n",
       "ACTIVITY_TYPE_CODE                                 0\n",
       "NumberClientsSeen                                  0\n",
       "NumberClientsSeenFaceToFace                        0\n",
       "NumberBednights                                    0\n",
       "NumberContacts                                     0\n",
       "NumberFaceToFaceContacts                           0"
      ]
     },
     "execution_count": 26,
     "metadata": {},
     "output_type": "execute_result"
    }
   ],
   "source": [
    "from pyspark.sql import SparkSession\n",
    "from pyspark.sql.functions import col\n",
    "\n",
    "# Create a Spark session\n",
    "spark = SparkSession.builder.appName(\"example\").getOrCreate()\n",
    "\n",
    "# Assuming 'df_spark' is the PySpark DataFrame\n",
    "# If not, we can create one using: df_spark = spark.createDataFrame(your_pandas_df)\n",
    "\n",
    "# Display the count of missing values for each column\n",
    "missing_values_spark = df_spark.agg(*[F.sum(F.col(c).isNull().cast(\"int\")).alias(c) for c in df_spark.columns])\n",
    "\n",
    "# Convert to Pandas DataFrame and transpose\n",
    "missing_values_pandas = missing_values_spark.toPandas().T\n",
    "\n",
    "# Display the transposed result\n",
    "missing_values_pandas.columns = ['Count of Missing Values']\n",
    "missing_values_pandas\n"
   ]
  },
  {
   "cell_type": "code",
   "execution_count": null,
   "id": "e9516d1e",
   "metadata": {},
   "outputs": [],
   "source": []
  }
 ],
 "metadata": {
  "kernelspec": {
   "display_name": "Python 3 (ipykernel)",
   "language": "python",
   "name": "python3"
  },
  "language_info": {
   "codemirror_mode": {
    "name": "ipython",
    "version": 3
   },
   "file_extension": ".py",
   "mimetype": "text/x-python",
   "name": "python",
   "nbconvert_exporter": "python",
   "pygments_lexer": "ipython3",
   "version": "3.10.12"
  }
 },
 "nbformat": 4,
 "nbformat_minor": 5
}
