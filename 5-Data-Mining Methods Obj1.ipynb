{
 "cells": [
  {
   "cell_type": "markdown",
   "id": "2e9b0747",
   "metadata": {},
   "source": [
    "# 5-Data-Mining Method(s) Selection"
   ]
  },
  {
   "cell_type": "code",
   "execution_count": 1,
   "id": "6cd37161",
   "metadata": {},
   "outputs": [
    {
     "name": "stderr",
     "output_type": "stream",
     "text": [
      "WARNING: An illegal reflective access operation has occurred\n",
      "WARNING: Illegal reflective access by org.apache.spark.unsafe.Platform (file:/home/ubuntu/.local/lib/python3.10/site-packages/pyspark/jars/spark-unsafe_2.12-3.2.1.jar) to constructor java.nio.DirectByteBuffer(long,int)\n",
      "WARNING: Please consider reporting this to the maintainers of org.apache.spark.unsafe.Platform\n",
      "WARNING: Use --illegal-access=warn to enable warnings of further illegal reflective access operations\n",
      "WARNING: All illegal access operations will be denied in a future release\n",
      "Using Spark's default log4j profile: org/apache/spark/log4j-defaults.properties\n",
      "Setting default log level to \"WARN\".\n",
      "To adjust logging level use sc.setLogLevel(newLevel). For SparkR, use setLogLevel(newLevel).\n",
      "23/10/06 19:09:46 WARN NativeCodeLoader: Unable to load native-hadoop library for your platform... using builtin-java classes where applicable\n",
      "                                                                                \r"
     ]
    },
    {
     "name": "stdout",
     "output_type": "stream",
     "text": [
      "Area under ROC = 0.689877250807834\n"
     ]
    }
   ],
   "source": [
    "from pyspark.sql import SparkSession\n",
    "from pyspark.ml.feature import StringIndexer, VectorAssembler\n",
    "from pyspark.ml.classification import LogisticRegression\n",
    "from pyspark.ml.evaluation import BinaryClassificationEvaluator\n",
    "from pyspark.ml import Pipeline\n",
    "\n",
    "# Create a Spark session\n",
    "spark = SparkSession.builder.appName(\"LogisticRegressionExample\").getOrCreate()\n",
    "\n",
    "# Load data\n",
    "csv_file_path = 'Merged-data.csv'\n",
    "df = spark.read.format(\"csv\").option(\"header\", \"true\").load(csv_file_path)\n",
    "\n",
    "# Using Binary target variable (1 or 0)\n",
    "# If 'ClientsSeenRate' > threshold, set 'Target' to 1; otherwise, set it to 0.\n",
    "threshold = 200\n",
    "df = df.withColumn('Target', (df['ClientsSeenRate'] > threshold).cast(\"integer\"))\n",
    "\n",
    "# Select the features and target variable\n",
    "selected_cols = ['Gender', 'AgeGroup', 'Ethnicity']\n",
    "feature_cols = ['encoded_' + col for col in selected_cols]\n",
    "\n",
    "# Encode categorical variables (Gender, AgeGroup, Ethnicity)\n",
    "indexers = [StringIndexer(inputCol=col, outputCol='encoded_' + col).fit(df) for col in selected_cols]\n",
    "pipeline = Pipeline(stages=indexers)\n",
    "df = pipeline.fit(df).transform(df)\n",
    "\n",
    "# Assemble features into a vector\n",
    "assembler = VectorAssembler(inputCols=feature_cols, outputCol=\"features\")\n",
    "df = assembler.transform(df)\n",
    "\n",
    "# Split the data into training and testing sets\n",
    "(train_data, test_data) = df.randomSplit([0.7, 0.3], seed=42)\n",
    "\n",
    "# Create and train the logistic regression model\n",
    "logistic_model = LogisticRegression(featuresCol=\"features\", labelCol=\"Target\")\n",
    "model = logistic_model.fit(train_data)\n",
    "\n",
    "# Make predictions on the test set\n",
    "predictions = model.transform(test_data)\n",
    "\n",
    "# Evaluate the model\n",
    "evaluator = BinaryClassificationEvaluator(labelCol=\"Target\", rawPredictionCol=\"rawPrediction\", metricName=\"areaUnderROC\")\n",
    "accuracy = evaluator.evaluate(predictions)\n",
    "\n",
    "# Print the results\n",
    "print(\"Area under ROC = {}\".format(accuracy))\n",
    "\n",
    "# Stop the Spark session\n",
    "spark.stop()\n",
    "\n"
   ]
  },
  {
   "cell_type": "code",
   "execution_count": 2,
   "id": "834cdd6c",
   "metadata": {},
   "outputs": [
    {
     "name": "stdout",
     "output_type": "stream",
     "text": [
      "root\n",
      " |-- Record_ID: string (nullable = true)\n",
      " |-- Year: string (nullable = true)\n",
      " |-- Ethnicity: string (nullable = true)\n",
      " |-- Gender: string (nullable = true)\n",
      " |-- AgeGroup: string (nullable = true)\n",
      " |-- OrgType: string (nullable = true)\n",
      " |-- Team: string (nullable = true)\n",
      " |-- ActivityCode: string (nullable = true)\n",
      " |-- ActivityType: string (nullable = true)\n",
      " |-- ClientsSeen: string (nullable = true)\n",
      " |-- ClientsSeenFaceToFace: string (nullable = true)\n",
      " |-- Bednights: string (nullable = true)\n",
      " |-- Contacts: string (nullable = true)\n",
      " |-- FaceToFaceContacts: string (nullable = true)\n",
      " |-- AgeBins: string (nullable = true)\n",
      " |-- ClientsSeenRate: string (nullable = true)\n",
      " |-- ClientsSeenFaceToFaceRate: string (nullable = true)\n",
      " |-- BednightsRate: string (nullable = true)\n",
      " |-- ContactsRate: string (nullable = true)\n",
      " |-- FaceToFaceContactsRate: string (nullable = true)\n",
      " |-- TeamType: string (nullable = true)\n",
      " |-- Target: integer (nullable = true)\n",
      " |-- encoded_Gender: double (nullable = false)\n",
      " |-- encoded_AgeGroup: double (nullable = false)\n",
      " |-- encoded_Ethnicity: double (nullable = false)\n",
      " |-- features: vector (nullable = true)\n",
      "\n"
     ]
    }
   ],
   "source": [
    "df.printSchema()"
   ]
  },
  {
   "cell_type": "code",
   "execution_count": 7,
   "id": "5ee07916",
   "metadata": {},
   "outputs": [
    {
     "name": "stderr",
     "output_type": "stream",
     "text": [
      "                                                                                \r"
     ]
    },
    {
     "name": "stdout",
     "output_type": "stream",
     "text": [
      "Best Area under ROC after Cross-Validation = 0.8023558392894317\n"
     ]
    }
   ],
   "source": [
    "from pyspark.sql import SparkSession\n",
    "from pyspark.ml.feature import StringIndexer, VectorAssembler\n",
    "from pyspark.ml.classification import LogisticRegression\n",
    "from pyspark.ml.evaluation import BinaryClassificationEvaluator\n",
    "from pyspark.ml.tuning import ParamGridBuilder, CrossValidator\n",
    "from pyspark.ml import Pipeline\n",
    "\n",
    "# Create a Spark session\n",
    "spark = SparkSession.builder.appName(\"LogisticRegressionCV\").getOrCreate()\n",
    "\n",
    "# Load data\n",
    "csv_file_path = 'Merged-data.csv'\n",
    "df = spark.read.format(\"csv\").option(\"header\", \"true\").load(csv_file_path)\n",
    "\n",
    "# Using Binary target variable (1 or 0)\n",
    "# If 'ClientsSeenRate' > threshold, set 'Target' to 1; otherwise, set it to 0.\n",
    "threshold = 200\n",
    "df = df.withColumn('Target', (df['ClientsSeenRate'] > threshold).cast(\"integer\"))\n",
    "\n",
    "# Select the features and target variable\n",
    "selected_cols = ['Gender', 'AgeGroup', 'Ethnicity']\n",
    "feature_cols = ['encoded_' + col for col in selected_cols]\n",
    "\n",
    "# Encode categorical variables (Gender, AgeGroup, Ethnicity)\n",
    "indexers = [StringIndexer(inputCol=col, outputCol='encoded_' + col).fit(df) for col in selected_cols]\n",
    "pipeline = Pipeline(stages=indexers)\n",
    "df = pipeline.fit(df).transform(df)\n",
    "\n",
    "# Assemble features into a vector\n",
    "assembler = VectorAssembler(inputCols=feature_cols, outputCol=\"features\")\n",
    "df = assembler.transform(df)\n",
    "\n",
    "# Split the data into training and testing sets\n",
    "(train_data, test_data) = df.randomSplit([0.7, 0.3], seed=42)\n",
    "\n",
    "# Create a logistic regression model\n",
    "logistic_model = LogisticRegression(featuresCol=\"features\", labelCol=\"Target\")\n",
    "\n",
    "# Create a parameter grid for cross-validation\n",
    "param_grid = ParamGridBuilder() \\\n",
    "    .addGrid(logistic_model.regParam, [0.01, 0.1, 1.0]) \\\n",
    "    .addGrid(logistic_model.elasticNetParam, [0.0, 0.1, 0.2]) \\\n",
    "    .build()\n",
    "\n",
    "# Set up the cross-validator\n",
    "cross_validator = CrossValidator(estimator=logistic_model,\n",
    "                                 estimatorParamMaps=param_grid,\n",
    "                                 evaluator=BinaryClassificationEvaluator(labelCol=\"Target\", rawPredictionCol=\"rawPrediction\", metricName=\"areaUnderROC\"),\n",
    "                                 numFolds=4,  # We can adjust the number of folds as needed\n",
    "                                 seed=42)\n",
    "\n",
    "# Run cross-validation and choose the best set of parameters\n",
    "cv_model = cross_validator.fit(train_data)\n",
    "\n",
    "# Make predictions on the test set using the best model\n",
    "cv_predictions = cv_model.transform(test_data)\n",
    "\n",
    "# Evaluate the model\n",
    "cv_accuracy = evaluator.evaluate(cv_predictions)\n",
    "\n",
    "# Print the results\n",
    "print(\"Best Area under ROC after Cross-Validation = {}\".format(cv_accuracy))\n",
    "\n",
    "# Stop the Spark session\n",
    "spark.stop()\n"
   ]
  },
  {
   "cell_type": "code",
   "execution_count": 11,
   "id": "6ac01675",
   "metadata": {},
   "outputs": [
    {
     "name": "stderr",
     "output_type": "stream",
     "text": [
      "[Stage 2628:============================>                           (1 + 1) / 2]\r"
     ]
    },
    {
     "name": "stdout",
     "output_type": "stream",
     "text": [
      "Best Area under ROC after Cross-Validation = 0.8137707306918326\n"
     ]
    },
    {
     "name": "stderr",
     "output_type": "stream",
     "text": [
      "\r",
      "                                                                                \r"
     ]
    }
   ],
   "source": [
    "from pyspark.sql import SparkSession\n",
    "from pyspark.ml.feature import StringIndexer, VectorAssembler\n",
    "from pyspark.ml.classification import RandomForestClassifier\n",
    "from pyspark.ml.evaluation import BinaryClassificationEvaluator\n",
    "from pyspark.ml.tuning import ParamGridBuilder, CrossValidator\n",
    "from pyspark.ml import Pipeline\n",
    "\n",
    "# Create a Spark session\n",
    "spark = SparkSession.builder.appName(\"RandomForestClassifierCV\").getOrCreate()\n",
    "\n",
    "# Load data\n",
    "csv_file_path = 'Merged-data.csv'\n",
    "df = spark.read.format(\"csv\").option(\"header\", \"true\").load(csv_file_path)\n",
    "\n",
    "# Using Binary target variable (1 or 0)\n",
    "# If 'ClientsSeenRate' > threshold, set 'Target' to 1; otherwise, set it to 0.\n",
    "threshold = 200\n",
    "df = df.withColumn('Target', (df['ClientsSeenRate'] > threshold).cast(\"integer\"))\n",
    "\n",
    "# Select the features and target variable\n",
    "selected_cols = ['Gender', 'AgeGroup', 'Ethnicity']\n",
    "feature_cols = ['encoded_' + col for col in selected_cols]\n",
    "\n",
    "# Encode categorical variables (Gender, AgeGroup, Ethnicity)\n",
    "indexers = [StringIndexer(inputCol=col, outputCol='encoded_' + col).fit(df) for col in selected_cols]\n",
    "pipeline = Pipeline(stages=indexers)\n",
    "df = pipeline.fit(df).transform(df)\n",
    "\n",
    "# Assemble features into a vector\n",
    "assembler = VectorAssembler(inputCols=feature_cols, outputCol=\"features\")\n",
    "df = assembler.transform(df)\n",
    "\n",
    "# Split the data into training and testing sets\n",
    "(train_data, test_data) = df.randomSplit([0.7, 0.3], seed=42)\n",
    "\n",
    "# Create a Random Forest classifier\n",
    "rf_classifier = RandomForestClassifier(featuresCol=\"features\", labelCol=\"Target\")\n",
    "\n",
    "# Create a parameter grid for cross-validation\n",
    "param_grid = ParamGridBuilder() \\\n",
    "    .addGrid(rf_classifier.numTrees, [10, 20, 30]) \\\n",
    "    .addGrid(rf_classifier.maxDepth, [5, 10, 15]) \\\n",
    "    .build()\n",
    "\n",
    "# Set up the cross-validator\n",
    "cross_validator = CrossValidator(estimator=rf_classifier,\n",
    "                                 estimatorParamMaps=param_grid,\n",
    "                                 evaluator=BinaryClassificationEvaluator(labelCol=\"Target\", rawPredictionCol=\"rawPrediction\", metricName=\"areaUnderROC\"),\n",
    "                                 numFolds=4,  # We can adjust the number of folds as needed\n",
    "                                 seed=42)\n",
    "\n",
    "# Run cross-validation and choose the best set of parameters\n",
    "cv_model = cross_validator.fit(train_data)\n",
    "\n",
    "# Make predictions on the test set using the best model\n",
    "cv_predictions = cv_model.transform(test_data)\n",
    "\n",
    "# Evaluate the model\n",
    "cv_accuracy = evaluator.evaluate(cv_predictions)\n",
    "\n",
    "# Print the results\n",
    "print(\"Best Area under ROC after Cross-Validation = {}\".format(cv_accuracy))\n",
    "\n",
    "# Stop the Spark session\n",
    "spark.stop()\n"
   ]
  },
  {
   "cell_type": "code",
   "execution_count": 10,
   "id": "39da120f",
   "metadata": {},
   "outputs": [
    {
     "name": "stderr",
     "output_type": "stream",
     "text": [
      "[Stage 1313:============================>                           (1 + 1) / 2]\r"
     ]
    },
    {
     "name": "stdout",
     "output_type": "stream",
     "text": [
      "Accuracy: 0.8137707306918326\n"
     ]
    },
    {
     "name": "stderr",
     "output_type": "stream",
     "text": [
      "\r",
      "                                                                                \r"
     ]
    }
   ],
   "source": [
    "from pyspark.sql import SparkSession\n",
    "from pyspark.ml.feature import StringIndexer, VectorAssembler\n",
    "from pyspark.ml.classification import RandomForestClassifier\n",
    "from pyspark.ml.evaluation import BinaryClassificationEvaluator\n",
    "from pyspark.ml.tuning import ParamGridBuilder, CrossValidator\n",
    "from pyspark.ml import Pipeline\n",
    "\n",
    "# Create a Spark session\n",
    "spark = SparkSession.builder.appName(\"RandomForestClassifierCV\").getOrCreate()\n",
    "\n",
    "# Load data\n",
    "csv_file_path = 'Merged-data.csv'\n",
    "df = spark.read.format(\"csv\").option(\"header\", \"true\").load(csv_file_path)\n",
    "\n",
    "# Using Binary target variable (1 or 0)\n",
    "# If 'ClientsSeenRate' > threshold, set 'Target' to 1; otherwise, set it to 0.\n",
    "threshold = 200\n",
    "df = df.withColumn('Target', (df['ClientsSeenRate'] > threshold).cast(\"integer\"))\n",
    "\n",
    "# Select the features and target variable\n",
    "selected_cols = ['Gender', 'AgeGroup', 'Ethnicity']\n",
    "feature_cols = ['encoded_' + col for col in selected_cols]\n",
    "\n",
    "# Encode categorical variables (Gender, AgeGroup, Ethnicity)\n",
    "indexers = [StringIndexer(inputCol=col, outputCol='encoded_' + col).fit(df) for col in selected_cols]\n",
    "pipeline = Pipeline(stages=indexers)\n",
    "df = pipeline.fit(df).transform(df)\n",
    "\n",
    "# Assemble features into a vector\n",
    "assembler = VectorAssembler(inputCols=feature_cols, outputCol=\"features\")\n",
    "df = assembler.transform(df)\n",
    "\n",
    "# Split the data into training and testing sets\n",
    "(train_data, test_data) = df.randomSplit([0.7, 0.3], seed=42)\n",
    "\n",
    "# Create a Random Forest classifier\n",
    "rf_classifier = RandomForestClassifier(featuresCol=\"features\", labelCol=\"Target\")\n",
    "\n",
    "# Create a parameter grid for cross-validation\n",
    "param_grid = ParamGridBuilder() \\\n",
    "    .addGrid(rf_classifier.numTrees, [10, 20, 30]) \\\n",
    "    .addGrid(rf_classifier.maxDepth, [5, 10, 15]) \\\n",
    "    .build()\n",
    "\n",
    "# Set up the cross-validator\n",
    "cross_validator = CrossValidator(estimator=rf_classifier,\n",
    "                                 estimatorParamMaps=param_grid,\n",
    "                                 evaluator=BinaryClassificationEvaluator(labelCol=\"Target\", rawPredictionCol=\"rawPrediction\", metricName=\"areaUnderROC\"),\n",
    "                                 numFolds=4,  # We can adjust the number of folds as needed\n",
    "                                 seed=42)\n",
    "\n",
    "# Run cross-validation and choose the best set of parameters\n",
    "cv_model = cross_validator.fit(train_data)\n",
    "\n",
    "# Make predictions on the test set using the best model\n",
    "cv_predictions = cv_model.transform(test_data)\n",
    "\n",
    "# Calculate accuracy\n",
    "accuracy = evaluator.evaluate(cv_predictions, {evaluator.metricName: \"accuracy\"})\n",
    "print(\"Accuracy:\", accuracy)\n",
    "\n"
   ]
  },
  {
   "cell_type": "code",
   "execution_count": 19,
   "id": "f08cdb2e",
   "metadata": {},
   "outputs": [
    {
     "name": "stderr",
     "output_type": "stream",
     "text": [
      "\r",
      "[Stage 1328:>                                                       (0 + 2) / 2]\r",
      "\r",
      "[Stage 1328:============================>                           (1 + 1) / 2]\r"
     ]
    },
    {
     "name": "stdout",
     "output_type": "stream",
     "text": [
      "AUC-PR: 0.42927963840255934\n"
     ]
    },
    {
     "name": "stderr",
     "output_type": "stream",
     "text": [
      "\r",
      "                                                                                \r"
     ]
    }
   ],
   "source": [
    "evaluator = BinaryClassificationEvaluator(labelCol=\"Target\", rawPredictionCol=\"rawPrediction\", metricName=\"areaUnderPR\")\n",
    "auc_pr = evaluator.evaluate(cv_predictions)\n",
    "print(\"AUC-PR:\", auc_pr)\n"
   ]
  },
  {
   "cell_type": "code",
   "execution_count": 20,
   "id": "1ec6c22b",
   "metadata": {},
   "outputs": [
    {
     "name": "stderr",
     "output_type": "stream",
     "text": [
      "\r",
      "[Stage 1342:>                                                       (0 + 2) / 2]\r",
      "\r",
      "[Stage 1342:============================>                           (1 + 1) / 2]\r"
     ]
    },
    {
     "name": "stdout",
     "output_type": "stream",
     "text": [
      "F1 Score: 0.7563198045291728\n"
     ]
    },
    {
     "name": "stderr",
     "output_type": "stream",
     "text": [
      "\r",
      "                                                                                \r"
     ]
    }
   ],
   "source": [
    "from pyspark.ml.evaluation import MulticlassClassificationEvaluator\n",
    "\n",
    "evaluator_f1 = MulticlassClassificationEvaluator(labelCol=\"Target\", predictionCol=\"prediction\", metricName=\"f1\")\n",
    "f1_score = evaluator_f1.evaluate(cv_predictions)\n",
    "print(\"F1 Score:\", f1_score)\n"
   ]
  },
  {
   "cell_type": "code",
   "execution_count": 21,
   "id": "25c1c19c",
   "metadata": {},
   "outputs": [
    {
     "name": "stderr",
     "output_type": "stream",
     "text": [
      "[Stage 1350:============================>                           (1 + 1) / 2]\r"
     ]
    },
    {
     "name": "stdout",
     "output_type": "stream",
     "text": [
      "Precision: 0.6701137538779731\n",
      "Recall: 0.11375405951022557\n"
     ]
    },
    {
     "name": "stderr",
     "output_type": "stream",
     "text": [
      "\r",
      "                                                                                \r"
     ]
    }
   ],
   "source": [
    "true_positives = cv_predictions.filter(\"prediction = 1 AND Target = 1\").count()\n",
    "false_positives = cv_predictions.filter(\"prediction = 1 AND Target = 0\").count()\n",
    "false_negatives = cv_predictions.filter(\"prediction = 0 AND Target = 1\").count()\n",
    "\n",
    "precision = true_positives / (true_positives + false_positives)\n",
    "recall = true_positives / (true_positives + false_negatives)\n",
    "\n",
    "print(\"Precision:\", precision)\n",
    "print(\"Recall:\", recall)\n"
   ]
  },
  {
   "cell_type": "code",
   "execution_count": 22,
   "id": "723c6a98",
   "metadata": {},
   "outputs": [
    {
     "name": "stderr",
     "output_type": "stream",
     "text": [
      "[Stage 1353:============================>                           (1 + 1) / 2]\r"
     ]
    },
    {
     "name": "stdout",
     "output_type": "stream",
     "text": [
      "+------+----------+-----+\n",
      "|Target|prediction|count|\n",
      "+------+----------+-----+\n",
      "|     1|       0.0|10097|\n",
      "|     0|       0.0|45613|\n",
      "|     1|       1.0| 1296|\n",
      "|     0|       1.0|  638|\n",
      "+------+----------+-----+\n",
      "\n"
     ]
    },
    {
     "name": "stderr",
     "output_type": "stream",
     "text": [
      "\r",
      "                                                                                \r"
     ]
    }
   ],
   "source": [
    "confusion_matrix = cv_predictions.groupBy(\"Target\", \"prediction\").count()\n",
    "confusion_matrix.show()\n"
   ]
  },
  {
   "cell_type": "code",
   "execution_count": 23,
   "id": "a1126253",
   "metadata": {},
   "outputs": [
    {
     "name": "stdout",
     "output_type": "stream",
     "text": [
      "Precision: 0.6701137538779731\n",
      "Recall: 0.11375405951022557\n",
      "False Positive Rate: 0.013794296339538605\n",
      "False Positive Rate: 0.013794296339538605\n",
      "Accuracy: 0.8137707306918326\n"
     ]
    }
   ],
   "source": [
    "precision = 1296 / (1296 + 638)\n",
    "print(\"Precision:\", precision)\n",
    "\n",
    "recall = 1296 / (1296 + 10097)\n",
    "print(\"Recall:\", recall)\n",
    "\n",
    "fpr = 638 / (638 + 45613)\n",
    "print(\"False Positive Rate:\", fpr)\n",
    "\n",
    "fpr = 638 / (638 + 45613)\n",
    "print(\"False Positive Rate:\", fpr)\n",
    "\n",
    "accuracy = (1296 + 45613) / (1296 + 45613 + 638 + 10097)\n",
    "print(\"Accuracy:\", accuracy)\n"
   ]
  },
  {
   "cell_type": "code",
   "execution_count": null,
   "id": "cf36031c",
   "metadata": {},
   "outputs": [],
   "source": []
  }
 ],
 "metadata": {
  "kernelspec": {
   "display_name": "Python 3 (ipykernel)",
   "language": "python",
   "name": "python3"
  },
  "language_info": {
   "codemirror_mode": {
    "name": "ipython",
    "version": 3
   },
   "file_extension": ".py",
   "mimetype": "text/x-python",
   "name": "python",
   "nbconvert_exporter": "python",
   "pygments_lexer": "ipython3",
   "version": "3.10.12"
  }
 },
 "nbformat": 4,
 "nbformat_minor": 5
}
