{
 "cells": [
  {
   "cell_type": "markdown",
   "id": "2e9b0747",
   "metadata": {},
   "source": [
    "# 8-Weak Model vs Selected Model"
   ]
  },
  {
   "cell_type": "code",
   "execution_count": 1,
   "id": "8feefef5",
   "metadata": {},
   "outputs": [
    {
     "name": "stderr",
     "output_type": "stream",
     "text": [
      "WARNING: An illegal reflective access operation has occurred\n",
      "WARNING: Illegal reflective access by org.apache.spark.unsafe.Platform (file:/home/ubuntu/.local/lib/python3.10/site-packages/pyspark/jars/spark-unsafe_2.12-3.2.1.jar) to constructor java.nio.DirectByteBuffer(long,int)\n",
      "WARNING: Please consider reporting this to the maintainers of org.apache.spark.unsafe.Platform\n",
      "WARNING: Use --illegal-access=warn to enable warnings of further illegal reflective access operations\n",
      "WARNING: All illegal access operations will be denied in a future release\n",
      "Using Spark's default log4j profile: org/apache/spark/log4j-defaults.properties\n",
      "Setting default log level to \"WARN\".\n",
      "To adjust logging level use sc.setLogLevel(newLevel). For SparkR, use setLogLevel(newLevel).\n",
      "23/10/10 11:16:10 WARN NativeCodeLoader: Unable to load native-hadoop library for your platform... using builtin-java classes where applicable\n",
      "23/10/10 11:16:11 WARN Utils: Service 'SparkUI' could not bind on port 4040. Attempting port 4041.\n",
      "                                                                                \r"
     ]
    },
    {
     "name": "stdout",
     "output_type": "stream",
     "text": [
      "Area under ROC = 0.689877250807834\n"
     ]
    },
    {
     "name": "stderr",
     "output_type": "stream",
     "text": [
      "23/10/10 11:16:36 WARN package: Truncated the string representation of a plan since it was too large. This behavior can be adjusted by setting 'spark.sql.debug.maxToStringFields'.\n",
      "                                                                                \r"
     ]
    },
    {
     "name": "stdout",
     "output_type": "stream",
     "text": [
      "+------+----------+-----+\n",
      "|Target|prediction|count|\n",
      "+------+----------+-----+\n",
      "|     1|       0.0|10818|\n",
      "|     0|       0.0|45452|\n",
      "|     1|       1.0|  575|\n",
      "|     0|       1.0|  799|\n",
      "+------+----------+-----+\n",
      "\n"
     ]
    },
    {
     "name": "stderr",
     "output_type": "stream",
     "text": [
      "                                                                                \r"
     ]
    },
    {
     "name": "stdout",
     "output_type": "stream",
     "text": [
      "Precision = 0.41848617176128095\n",
      "Recall = 0.05046958658825595\n",
      "F1 Score = 0.0900759771285345\n"
     ]
    }
   ],
   "source": [
    "from pyspark.sql import SparkSession\n",
    "from pyspark.ml.feature import StringIndexer, VectorAssembler\n",
    "from pyspark.ml.classification import LogisticRegression\n",
    "from pyspark.ml.evaluation import BinaryClassificationEvaluator, MulticlassClassificationEvaluator\n",
    "from pyspark.ml import Pipeline\n",
    "\n",
    "# Create a Spark session\n",
    "spark = SparkSession.builder.appName(\"LogisticRegressionModel\").getOrCreate()\n",
    "\n",
    "# Load data\n",
    "csv_file_path = 'Merged-data.csv'\n",
    "df = spark.read.format(\"csv\").option(\"header\", \"true\").load(csv_file_path)\n",
    "\n",
    "# Using Binary target variable (1 or 0)\n",
    "# If 'ClientsSeenRate' > threshold, set 'Target' to 1; otherwise, set it to 0.\n",
    "threshold = 200\n",
    "df = df.withColumn('Target', (df['ClientsSeenRate'] > threshold).cast(\"integer\"))\n",
    "\n",
    "# Select the features and target variable\n",
    "selected_cols = ['Gender', 'AgeGroup', 'Ethnicity']\n",
    "feature_cols = ['encoded_' + col for col in selected_cols]\n",
    "\n",
    "# Encode categorical variables (Gender, AgeGroup, Ethnicity)\n",
    "indexers = [StringIndexer(inputCol=col, outputCol='encoded_' + col).fit(df) for col in selected_cols]\n",
    "pipeline = Pipeline(stages=indexers)\n",
    "df = pipeline.fit(df).transform(df)\n",
    "\n",
    "# Assemble features into a vector\n",
    "assembler = VectorAssembler(inputCols=feature_cols, outputCol=\"features\")\n",
    "df = assembler.transform(df)\n",
    "\n",
    "# Split the data into training and testing sets\n",
    "(train_data, test_data) = df.randomSplit([0.7, 0.3], seed=42)\n",
    "\n",
    "# Create and train the logistic regression model\n",
    "logistic_model = LogisticRegression(featuresCol=\"features\", labelCol=\"Target\")\n",
    "model = logistic_model.fit(train_data)\n",
    "\n",
    "# Make predictions on the test set\n",
    "predictions = model.transform(test_data)\n",
    "\n",
    "# Evaluate the model\n",
    "evaluator = BinaryClassificationEvaluator(labelCol=\"Target\", rawPredictionCol=\"rawPrediction\", metricName=\"areaUnderROC\")\n",
    "accuracy = evaluator.evaluate(predictions)\n",
    "\n",
    "# Print the results\n",
    "print(\"Area under ROC = {}\".format(accuracy))\n",
    "\n",
    "\n",
    "# Confusion matrix\n",
    "conf_matrix = predictions.groupBy(\"Target\", \"prediction\").count()\n",
    "conf_matrix.show()\n",
    "\n",
    "# Extracting precision, recall, and F1 from confusion matrix\n",
    "tp = conf_matrix.filter(\"Target = 1 AND prediction = 1\").collect()[0][\"count\"]\n",
    "fp = conf_matrix.filter(\"Target = 0 AND prediction = 1\").collect()[0][\"count\"]\n",
    "fn = conf_matrix.filter(\"Target = 1 AND prediction = 0\").collect()[0][\"count\"]\n",
    "\n",
    "precision = tp / (tp + fp)\n",
    "recall = tp / (tp + fn)\n",
    "f1 = 2 * (precision * recall) / (precision + recall)\n",
    "\n",
    "print(\"Precision = {}\".format(precision))\n",
    "print(\"Recall = {}\".format(recall))\n",
    "print(\"F1 Score = {}\".format(f1))\n",
    "\n",
    "# Stop the Spark session\n",
    "spark.stop()\n",
    "\n"
   ]
  },
  {
   "cell_type": "code",
   "execution_count": 2,
   "id": "39da120f",
   "metadata": {},
   "outputs": [
    {
     "name": "stderr",
     "output_type": "stream",
     "text": [
      "23/10/10 11:17:54 WARN Utils: Service 'SparkUI' could not bind on port 4040. Attempting port 4041.\n",
      "[Stage 998:============================>                            (1 + 1) / 2]\r"
     ]
    },
    {
     "name": "stdout",
     "output_type": "stream",
     "text": [
      "Accuracy: 0.8138921657067518\n"
     ]
    },
    {
     "name": "stderr",
     "output_type": "stream",
     "text": [
      "\r",
      "                                                                                \r"
     ]
    }
   ],
   "source": [
    "from pyspark.sql import SparkSession\n",
    "from pyspark.ml.feature import StringIndexer, VectorAssembler\n",
    "from pyspark.ml.classification import RandomForestClassifier\n",
    "from pyspark.ml.evaluation import MulticlassClassificationEvaluator\n",
    "from pyspark.ml.tuning import ParamGridBuilder, CrossValidator\n",
    "from pyspark.ml import Pipeline\n",
    "\n",
    "# Create a Spark session\n",
    "spark = SparkSession.builder.appName(\"RandomForestClassifierModel\").getOrCreate()\n",
    "\n",
    "# Load data\n",
    "csv_file_path = 'Merged-data.csv'\n",
    "df = spark.read.format(\"csv\").option(\"header\", \"true\").load(csv_file_path)\n",
    "\n",
    "# Using Binary target variable (1 or 0)\n",
    "# If 'ClientsSeenRate' > threshold, set 'Target' to 1; otherwise, set it to 0.\n",
    "threshold = 200\n",
    "df = df.withColumn('Target', (df['ClientsSeenRate'] > threshold).cast(\"integer\"))\n",
    "\n",
    "# Select the features and target variable\n",
    "selected_cols = ['Gender', 'AgeGroup', 'Ethnicity']\n",
    "feature_cols = ['encoded_' + col for col in selected_cols]\n",
    "\n",
    "# Encode categorical variables (Gender, AgeGroup, Ethnicity)\n",
    "indexers = [StringIndexer(inputCol=col, outputCol='encoded_' + col, handleInvalid='keep', stringOrderType=\"frequencyDesc\").fit(df) for col in selected_cols]\n",
    "pipeline = Pipeline(stages=indexers)\n",
    "df = pipeline.fit(df).transform(df)\n",
    "\n",
    "# Assemble features into a vector\n",
    "assembler = VectorAssembler(inputCols=feature_cols, outputCol=\"features\")\n",
    "df = assembler.transform(df)\n",
    "\n",
    "# Split the data into training and testing sets\n",
    "(train_data, test_data) = df.randomSplit([0.7, 0.3], seed=42)\n",
    "\n",
    "# Create a Random Forest classifier with a seed\n",
    "rf_classifier = RandomForestClassifier(featuresCol=\"features\", labelCol=\"Target\", seed=42)\n",
    "\n",
    "# Create a parameter grid for cross-validation\n",
    "param_grid = ParamGridBuilder() \\\n",
    "    .addGrid(rf_classifier.numTrees, [10, 20, 30]) \\\n",
    "    .addGrid(rf_classifier.maxDepth, [5, 10, 15]) \\\n",
    "    .build()\n",
    "\n",
    "# Set up the cross-validator\n",
    "evaluator = MulticlassClassificationEvaluator(labelCol=\"Target\", predictionCol=\"prediction\", metricName=\"accuracy\")\n",
    "cross_validator = CrossValidator(estimator=rf_classifier,\n",
    "                                 estimatorParamMaps=param_grid,\n",
    "                                 evaluator=evaluator,\n",
    "                                 numFolds=4,  # We can adjust the number of folds as needed\n",
    "                                 seed=42)\n",
    "\n",
    "# Run cross-validation and choose the best set of parameters\n",
    "cv_model = cross_validator.fit(train_data)\n",
    "\n",
    "# Make predictions on the test set using the best model\n",
    "cv_predictions = cv_model.transform(test_data)\n",
    "\n",
    "# Fit the Random Forest model on the entire training set\n",
    "final_model = rf_classifier.fit(train_data)\n",
    "\n",
    "# Calculate accuracy\n",
    "accuracy = evaluator.evaluate(cv_predictions)\n",
    "print(\"Accuracy:\", accuracy)\n"
   ]
  },
  {
   "cell_type": "code",
   "execution_count": 3,
   "id": "723c6a98",
   "metadata": {},
   "outputs": [
    {
     "name": "stderr",
     "output_type": "stream",
     "text": [
      "[Stage 1000:============================>                           (1 + 1) / 2]\r"
     ]
    },
    {
     "name": "stdout",
     "output_type": "stream",
     "text": [
      "+------+----------+-----+\n",
      "|Target|prediction|count|\n",
      "+------+----------+-----+\n",
      "|     1|       0.0| 9995|\n",
      "|     0|       0.0|45518|\n",
      "|     1|       1.0| 1398|\n",
      "|     0|       1.0|  733|\n",
      "+------+----------+-----+\n",
      "\n"
     ]
    },
    {
     "name": "stderr",
     "output_type": "stream",
     "text": [
      "\r",
      "                                                                                \r"
     ]
    }
   ],
   "source": [
    "confusion_matrix = cv_predictions.groupBy(\"Target\", \"prediction\").count()\n",
    "confusion_matrix.show()\n"
   ]
  },
  {
   "cell_type": "code",
   "execution_count": null,
   "id": "cf36031c",
   "metadata": {},
   "outputs": [],
   "source": []
  }
 ],
 "metadata": {
  "kernelspec": {
   "display_name": "Python 3 (ipykernel)",
   "language": "python",
   "name": "python3"
  },
  "language_info": {
   "codemirror_mode": {
    "name": "ipython",
    "version": 3
   },
   "file_extension": ".py",
   "mimetype": "text/x-python",
   "name": "python",
   "nbconvert_exporter": "python",
   "pygments_lexer": "ipython3",
   "version": "3.10.12"
  }
 },
 "nbformat": 4,
 "nbformat_minor": 5
}
